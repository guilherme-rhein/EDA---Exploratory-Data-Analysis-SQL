{
 "cells": [
  {
   "cell_type": "markdown",
   "id": "ab8a09ec",
   "metadata": {
    "papermill": {
     "duration": 0.019735,
     "end_time": "2023-05-23T19:02:05.116873",
     "exception": false,
     "start_time": "2023-05-23T19:02:05.097138",
     "status": "completed"
    },
    "tags": []
   },
   "source": [
    "<img src=\"https://raw.githubusercontent.com/guilherme-rhein/EDA---Exploratory-Data-Analysis-SQL/main/ebac_data_science.png\" alt=\"ebac\">\n",
    "\n",
    "---\n",
    "\n",
    "# **Análise de Dados - Projeto SQL**\n",
    "\n",
    "<a href=\"https://www.kaggle.com/code/guilhermenicolaz/notebooke56382f778\" target=\"_blank\"><img align=\"left\" alt=\"Kaggle_link_project\" title=\"Open in Kaggle\" src=\"https://kaggle.com/static/images/open-in-kaggle.svg\"></a>"
   ]
  },
  {
   "cell_type": "markdown",
   "id": "af778d08",
   "metadata": {
    "papermill": {
     "duration": 0.018639,
     "end_time": "2023-05-23T19:02:05.155116",
     "exception": false,
     "start_time": "2023-05-23T19:02:05.136477",
     "status": "completed"
    },
    "tags": []
   },
   "source": [
    "# **Índice**"
   ]
  },
  {
   "cell_type": "markdown",
   "id": "e9a72fd6",
   "metadata": {
    "papermill": {
     "duration": 0.019457,
     "end_time": "2023-05-23T19:02:05.194275",
     "exception": false,
     "start_time": "2023-05-23T19:02:05.174818",
     "status": "completed"
    },
    "tags": []
   },
   "source": [
    "> - [**1) Conjunto de dados**](#Descrição-do-Conjunto-de-Dados:)  \n",
    "> - [**2) Criação da Tabela Crédito**](#Criação-da-Tabela-Crédito:)  \n",
    "> - [**3) Exploração e análise de dados (EDA)**](#EDA---Exploratory-Data-Analysis:)  \n",
    ">> - [3.1 Tabela](#Visualização-da-Tabela)  \n",
    ">> - [3.2 Número de Linhas da Amostra](#Número-de-Linhas-da-Amostra)  \n",
    ">> - [3.3 Dados de Cada Coluna](#Tipos-de-Dados)  \n",
    ">> - [3.4 Dados Categóricos - **Sexo**](#Dados-da-Coluna-sexo)  \n",
    ">> - [3.5 Dados Categóricos - **Estado Civil**](#Dados-da-Coluna-estado_civil)  \n",
    ">> - [3.6 Dados Categóricos - **Tipo_Cartão**](#Dados-da-Coluna-tipo_cartao)  \n",
    ">> - [3.7 Dados Categóricos - **Salário_Anual**](#Quantidade-de-Clientes-por-Classe-em-salario_anual)  \n",
    ">> - [3.8 Dados Categóricos - **Escolaridade**](#Quantidade-de-Clientes-por-Classe-em-escolaridade)  \n",
    "> - [**4) Valores Mínimos, Máximos e Médias**](#Análise-de-Valores-Númericos)  \n",
    ">> - [4.1 Coluna **idade**](#Valor-Mínimo,-Máximo-e-Média-na-Coluna-idade)  \n",
    ">> - [4.2 Coluna **qtd_transacoes_12m**](#Valor-Mínimo,-Máximo-e-Média-na-Coluna-qtd_transacoes_12m)  \n",
    ">> - [4.3 Coluna **valor_transacoes_12m**](#Valor-Mínimo,-Máximo-e-Média-na-Coluna-valor_transacoes_12m)  \n",
    "> - [**5) Relacionando Variáveis**](#Relacionando-Diferentes-Variáveis)\n",
    ">> - [5.1 Média da **Qtd_Transacoes_12m** Agrupada por **Tipo_Cartao**, **Sexo** e **Escolaridade**](#Média-da-qtd_transacoes_12m-relacionada-com-o-tipo-de-tipo_cartao,-sexo-e-escolaridade) \n",
    ">> - [5.2 Média do **Limite_Credito** Agrupado por **Tipo_Cartao**, **Sexo** e **Escolaridade**](#Média-do-limite_credito-relacionado-com-o-tipo-de-tipo_cartao,-sexo-e-escolaridade)  \n",
    ">> - [5.3 Médias de **Limite_Credito**, **Qtd_Transacoes_12m**, **Valor_Transacoes_12m** relacionadas com **Tipo_Cartao** e **Salario_Anual**](#Médias-de-limite_credito,-qtd_transacoes_12m,-valor_transacoes_12m-relacionadas-com-o-tipo_cartao-e-salario_anual)  \n",
    "> - [**6) Conclusão**](#Conclusão:)"
   ]
  },
  {
   "cell_type": "markdown",
   "id": "d2f3ab92",
   "metadata": {
    "papermill": {
     "duration": 0.018886,
     "end_time": "2023-05-23T19:02:05.232237",
     "exception": false,
     "start_time": "2023-05-23T19:02:05.213351",
     "status": "completed"
    },
    "tags": []
   },
   "source": [
    "# **Descrição do Conjunto de Dados:**"
   ]
  },
  {
   "cell_type": "markdown",
   "id": "ab5eebfa",
   "metadata": {
    "papermill": {
     "duration": 0.018746,
     "end_time": "2023-05-23T19:02:05.270655",
     "exception": false,
     "start_time": "2023-05-23T19:02:05.251909",
     "status": "completed"
    },
    "tags": []
   },
   "source": [
    "A tabela a seguir apresenta as informações contidas na base de dados, onde cada linha representa o nome das colunas, indicando o tipo de informação que cada uma guarda e o tipo de dado correspondente."
   ]
  },
  {
   "cell_type": "markdown",
   "id": "1cf27a25",
   "metadata": {
    "papermill": {
     "duration": 0.018914,
     "end_time": "2023-05-23T19:02:05.30885",
     "exception": false,
     "start_time": "2023-05-23T19:02:05.289936",
     "status": "completed"
    },
    "tags": []
   },
   "source": [
    "| Coluna                   | Descrição                                               | Tipo     |\n",
    "| :----------------------- | :-----------------------------------------------------: | -------: |\n",
    "| **idade**                | Idade do Cliente                                        | *int*    | \n",
    "| **sexo**                 | Sexo do Cliente (F ou M)                                | *string* |\n",
    "| **dependentes**          | Número de Dependentes do Cliente                        | *int*    |\n",
    "| **escolaridade**         | Nível de Escolaridade do Clientes                       | *string* |\n",
    "| **estado_civil**         | Estado Civil do cliente                                 | *string* |\n",
    "| **salario_anual**        | Faixa Salarial do Cliente                               | *string* |\n",
    "| **tipo_cartao**          | Tipo de Cartao do Cliente                               | *string* |\n",
    "| **qtd_produtos**         | Quantidade de Produtos Comprados nos Últimos 12 Meses   | *bigint* |\n",
    "| **iteracoes_12m**        | Quantidade de Iterações/Transações nos Últimos 12 Meses | *int*    |\n",
    "| **meses_inativo_12m**    | Quantidade de Meses que o Cliente Ficou Inativo         | *int*    |\n",
    "| **limite_credito**       | Limite de Crédito do Cliente                            | *float*  |\n",
    "| **valor_transacoes_12m** | Valor das Transações dos Últimos 12 Meses               | *float*  |\n",
    "| **qtd_transacoes_12m**   | Quantidade de Transações dos Últimos 12 Meses           | *int*    |"
   ]
  },
  {
   "cell_type": "markdown",
   "id": "195b2d7e",
   "metadata": {
    "papermill": {
     "duration": 0.018649,
     "end_time": "2023-05-23T19:02:05.346496",
     "exception": false,
     "start_time": "2023-05-23T19:02:05.327847",
     "status": "completed"
    },
    "tags": []
   },
   "source": [
    "Este projeto utiliza uma base de dados contendo uma amostra representativa de um conjunto maior de dados. A amostra foi selecionada para permitir a análise e desenvolvimento de soluções sem a necessidade de lidar com o conjunto completo de dados. O objetivo é realizar análises, interpretações e com base nessa amostra extrapolar compreensão dos resultados das informações contidas nos dados.\n",
    "\n",
    "A [**Amazon Web Services (AWS)**](https://aws.amazon.com/pt/) é uma plataforma de computação em nuvem. Todo processo foi realizado através de queries utilizando SQL através do [**Amazon Athena**](https://aws.amazon.com/pt/athena/) em conjunto ao [**Amazon Simple Storage Service - Amazon S3**](https://aws.amazon.com/pt/s3/).\n",
    "\n",
    "O **Amazon Athena** é um serviço de consulta interativa que facilita a análise de dados no Amazon S3 usando SQL padrão, permitindo executar consultas ad-hoc em grandes conjuntos de dados sem a necessidade de configurar ou gerenciar infraestrutura, além de poder lidar com grandes volumes de dados sendo altamente escalável, permitindo que você execute consultas em petabytes de dados com facilidade. Funciona diretamente com os dados armazenados no Amazon S3, o que significa que não é necessário mover os dados para um banco de dados separado para análise.\n",
    "\n",
    "O **Amazon S3** é um serviço de armazenamento em nuvem escalável, seguro e durável. Os dados no Amazon S3 podem ser armazenados de forma ilimitada e lidar com qualquer volume de tráfego. Pode ser facilmente acessado e gerenciado por meio de uma variedade de interfaces, incluindo a API da AWS, consoles web e ferramentas de linha de comando."
   ]
  },
  {
   "cell_type": "markdown",
   "id": "0f0d7081",
   "metadata": {
    "papermill": {
     "duration": 0.018804,
     "end_time": "2023-05-23T19:02:05.481404",
     "exception": false,
     "start_time": "2023-05-23T19:02:05.4626",
     "status": "completed"
    },
    "tags": []
   },
   "source": [
    "# **Criação da Tabela Crédito:**"
   ]
  },
  {
   "cell_type": "markdown",
   "id": "99b4910c",
   "metadata": {
    "papermill": {
     "duration": 0.018917,
     "end_time": "2023-05-23T19:02:05.519378",
     "exception": false,
     "start_time": "2023-05-23T19:02:05.500461",
     "status": "completed"
    },
    "tags": []
   },
   "source": [
    "Realizando a criação da tabela Crédito, que será utilizada nas queries a seguir:"
   ]
  },
  {
   "cell_type": "markdown",
   "id": "caefb9bb",
   "metadata": {
    "papermill": {
     "duration": 0.018955,
     "end_time": "2023-05-23T19:02:05.557955",
     "exception": false,
     "start_time": "2023-05-23T19:02:05.539",
     "status": "completed"
    },
    "tags": []
   },
   "source": [
    "```sql\n",
    "CREATE EXTERNAL TABLE IF NOT EXISTS default.credito (\n",
    "\t`idade` int,\n",
    "\t`sexo` string,\n",
    "\t`dependentes` int,\n",
    "\t`escolaridade` string,\n",
    "\t`estado_civil` string,\n",
    "\t`salario_anual` string,\n",
    "\t`tipo_cartao` string,\n",
    "\t`qtd_produtos` bigint,\n",
    "\t`iteracoes_12m` int,\n",
    "\t`meses_inativo_12m` int,\n",
    "\t`limite_credito` float,\n",
    "\t`valor_transacoes_12m` float,\n",
    "\t`qtd_transacoes_12m` int\n",
    ")\n",
    "ROW FORMAT SERDE 'org.apache.hadoop.hive.serde2.lazy.LazySimpleSerDe'\n",
    "WITH SERDEPROPERTIES (\n",
    "\t'serialization.format' = ',',\n",
    "\t'field.delim' = ','\n",
    ")\n",
    "LOCATION 's3://bucket-credito-projeto/'\n",
    "TBLPROPERTIES ('has_encrypted_data' = 'false');\n",
    "```"
   ]
  },
  {
   "cell_type": "markdown",
   "id": "f77402c7",
   "metadata": {
    "papermill": {
     "duration": 0.018853,
     "end_time": "2023-05-23T19:02:05.596301",
     "exception": false,
     "start_time": "2023-05-23T19:02:05.577448",
     "status": "completed"
    },
    "tags": []
   },
   "source": [
    "[Retornar ao índice](#Índice)"
   ]
  },
  {
   "cell_type": "markdown",
   "id": "f6542717",
   "metadata": {
    "papermill": {
     "duration": 0.019358,
     "end_time": "2023-05-23T19:02:05.634694",
     "exception": false,
     "start_time": "2023-05-23T19:02:05.615336",
     "status": "completed"
    },
    "tags": []
   },
   "source": [
    "# **EDA - Exploratory Data Analysis:**"
   ]
  },
  {
   "cell_type": "markdown",
   "id": "067165b9",
   "metadata": {},
   "source": [
    "**Para melhor qualidade na visualização das Queries como resultado das consultas realizadas no Athena, utilizaremos a biblioteca do Pandas para leitura de cada arquivo .csv das queries realizadas.**"
   ]
  },
  {
   "cell_type": "code",
   "execution_count": 1,
   "id": "7c06de98",
   "metadata": {},
   "outputs": [],
   "source": [
    "import pandas as pd"
   ]
  },
  {
   "cell_type": "markdown",
   "id": "40ae7517",
   "metadata": {
    "papermill": {
     "duration": 0.018912,
     "end_time": "2023-05-23T19:02:05.711117",
     "exception": false,
     "start_time": "2023-05-23T19:02:05.692205",
     "status": "completed"
    },
    "tags": []
   },
   "source": [
    "### Visualização da Tabela\n",
    "- **Query 1:**\n",
    "\n",
    "```sql\n",
    "SELECT * FROM \"default\".\"credito\" limit 10;\n",
    "```"
   ]
  },
  {
   "cell_type": "code",
   "execution_count": 12,
   "id": "2772b952",
   "metadata": {
    "execution": {
     "iopub.execute_input": "2023-05-23T19:02:05.79012Z",
     "iopub.status.busy": "2023-05-23T19:02:05.789672Z",
     "iopub.status.idle": "2023-05-23T19:02:06.082544Z",
     "shell.execute_reply": "2023-05-23T19:02:06.081245Z"
    },
    "jupyter": {
     "source_hidden": true
    },
    "papermill": {
     "duration": 0.317077,
     "end_time": "2023-05-23T19:02:06.085706",
     "exception": false,
     "start_time": "2023-05-23T19:02:05.768629",
     "status": "completed"
    },
    "tags": []
   },
   "outputs": [
    {
     "data": {
      "text/html": [
       "<div>\n",
       "<style scoped>\n",
       "    .dataframe tbody tr th:only-of-type {\n",
       "        vertical-align: middle;\n",
       "    }\n",
       "\n",
       "    .dataframe tbody tr th {\n",
       "        vertical-align: top;\n",
       "    }\n",
       "\n",
       "    .dataframe thead th {\n",
       "        text-align: right;\n",
       "    }\n",
       "</style>\n",
       "<table border=\"1\" class=\"dataframe\">\n",
       "  <thead>\n",
       "    <tr style=\"text-align: right;\">\n",
       "      <th></th>\n",
       "      <th>idade</th>\n",
       "      <th>sexo</th>\n",
       "      <th>dependentes</th>\n",
       "      <th>escolaridade</th>\n",
       "      <th>estado_civil</th>\n",
       "      <th>salario_anual</th>\n",
       "      <th>tipo_cartao</th>\n",
       "      <th>qtd_produtos</th>\n",
       "      <th>iteracoes_12m</th>\n",
       "      <th>meses_inativo_12m</th>\n",
       "      <th>limite_credito</th>\n",
       "      <th>valor_transacoes_12m</th>\n",
       "      <th>qtd_transacoes_12m</th>\n",
       "    </tr>\n",
       "  </thead>\n",
       "  <tbody>\n",
       "    <tr>\n",
       "      <th>0</th>\n",
       "      <td>45</td>\n",
       "      <td>M</td>\n",
       "      <td>3</td>\n",
       "      <td>ensino medio</td>\n",
       "      <td>casado</td>\n",
       "      <td>$60K - $80K</td>\n",
       "      <td>blue</td>\n",
       "      <td>5</td>\n",
       "      <td>3</td>\n",
       "      <td>1</td>\n",
       "      <td>12691.51</td>\n",
       "      <td>1144.90</td>\n",
       "      <td>42</td>\n",
       "    </tr>\n",
       "    <tr>\n",
       "      <th>1</th>\n",
       "      <td>49</td>\n",
       "      <td>F</td>\n",
       "      <td>5</td>\n",
       "      <td>mestrado</td>\n",
       "      <td>solteiro</td>\n",
       "      <td>menos que $40K</td>\n",
       "      <td>blue</td>\n",
       "      <td>6</td>\n",
       "      <td>2</td>\n",
       "      <td>1</td>\n",
       "      <td>8256.96</td>\n",
       "      <td>1291.45</td>\n",
       "      <td>33</td>\n",
       "    </tr>\n",
       "    <tr>\n",
       "      <th>2</th>\n",
       "      <td>51</td>\n",
       "      <td>M</td>\n",
       "      <td>3</td>\n",
       "      <td>mestrado</td>\n",
       "      <td>casado</td>\n",
       "      <td>$80K - $120K</td>\n",
       "      <td>blue</td>\n",
       "      <td>4</td>\n",
       "      <td>0</td>\n",
       "      <td>1</td>\n",
       "      <td>3418.56</td>\n",
       "      <td>1887.72</td>\n",
       "      <td>20</td>\n",
       "    </tr>\n",
       "    <tr>\n",
       "      <th>3</th>\n",
       "      <td>40</td>\n",
       "      <td>F</td>\n",
       "      <td>4</td>\n",
       "      <td>ensino medio</td>\n",
       "      <td>na</td>\n",
       "      <td>menos que $40K</td>\n",
       "      <td>blue</td>\n",
       "      <td>3</td>\n",
       "      <td>1</td>\n",
       "      <td>4</td>\n",
       "      <td>3313.03</td>\n",
       "      <td>1171.56</td>\n",
       "      <td>20</td>\n",
       "    </tr>\n",
       "    <tr>\n",
       "      <th>4</th>\n",
       "      <td>40</td>\n",
       "      <td>M</td>\n",
       "      <td>3</td>\n",
       "      <td>sem educacao formal</td>\n",
       "      <td>casado</td>\n",
       "      <td>$60K - $80K</td>\n",
       "      <td>blue</td>\n",
       "      <td>5</td>\n",
       "      <td>0</td>\n",
       "      <td>1</td>\n",
       "      <td>4716.22</td>\n",
       "      <td>816.08</td>\n",
       "      <td>28</td>\n",
       "    </tr>\n",
       "    <tr>\n",
       "      <th>5</th>\n",
       "      <td>44</td>\n",
       "      <td>M</td>\n",
       "      <td>2</td>\n",
       "      <td>mestrado</td>\n",
       "      <td>casado</td>\n",
       "      <td>$40K - $60K</td>\n",
       "      <td>blue</td>\n",
       "      <td>3</td>\n",
       "      <td>2</td>\n",
       "      <td>1</td>\n",
       "      <td>4010.69</td>\n",
       "      <td>1088.07</td>\n",
       "      <td>24</td>\n",
       "    </tr>\n",
       "    <tr>\n",
       "      <th>6</th>\n",
       "      <td>51</td>\n",
       "      <td>M</td>\n",
       "      <td>4</td>\n",
       "      <td>na</td>\n",
       "      <td>casado</td>\n",
       "      <td>$120K +</td>\n",
       "      <td>gold</td>\n",
       "      <td>6</td>\n",
       "      <td>3</td>\n",
       "      <td>1</td>\n",
       "      <td>34516.72</td>\n",
       "      <td>1330.87</td>\n",
       "      <td>31</td>\n",
       "    </tr>\n",
       "    <tr>\n",
       "      <th>7</th>\n",
       "      <td>32</td>\n",
       "      <td>M</td>\n",
       "      <td>0</td>\n",
       "      <td>ensino medio</td>\n",
       "      <td>na</td>\n",
       "      <td>$60K - $80K</td>\n",
       "      <td>silver</td>\n",
       "      <td>2</td>\n",
       "      <td>2</td>\n",
       "      <td>2</td>\n",
       "      <td>29081.49</td>\n",
       "      <td>1538.32</td>\n",
       "      <td>36</td>\n",
       "    </tr>\n",
       "    <tr>\n",
       "      <th>8</th>\n",
       "      <td>37</td>\n",
       "      <td>M</td>\n",
       "      <td>3</td>\n",
       "      <td>sem educacao formal</td>\n",
       "      <td>solteiro</td>\n",
       "      <td>$60K - $80K</td>\n",
       "      <td>blue</td>\n",
       "      <td>5</td>\n",
       "      <td>0</td>\n",
       "      <td>2</td>\n",
       "      <td>22352.50</td>\n",
       "      <td>1350.14</td>\n",
       "      <td>24</td>\n",
       "    </tr>\n",
       "    <tr>\n",
       "      <th>9</th>\n",
       "      <td>48</td>\n",
       "      <td>M</td>\n",
       "      <td>2</td>\n",
       "      <td>mestrado</td>\n",
       "      <td>solteiro</td>\n",
       "      <td>$80K - $120K</td>\n",
       "      <td>blue</td>\n",
       "      <td>6</td>\n",
       "      <td>3</td>\n",
       "      <td>3</td>\n",
       "      <td>11656.41</td>\n",
       "      <td>1441.73</td>\n",
       "      <td>32</td>\n",
       "    </tr>\n",
       "  </tbody>\n",
       "</table>\n",
       "</div>"
      ],
      "text/plain": [
       "   idade sexo  dependentes         escolaridade estado_civil   salario_anual  \\\n",
       "0     45    M            3         ensino medio       casado     $60K - $80K   \n",
       "1     49    F            5             mestrado     solteiro  menos que $40K   \n",
       "2     51    M            3             mestrado       casado    $80K - $120K   \n",
       "3     40    F            4         ensino medio           na  menos que $40K   \n",
       "4     40    M            3  sem educacao formal       casado     $60K - $80K   \n",
       "5     44    M            2             mestrado       casado     $40K - $60K   \n",
       "6     51    M            4                   na       casado         $120K +   \n",
       "7     32    M            0         ensino medio           na     $60K - $80K   \n",
       "8     37    M            3  sem educacao formal     solteiro     $60K - $80K   \n",
       "9     48    M            2             mestrado     solteiro    $80K - $120K   \n",
       "\n",
       "  tipo_cartao  qtd_produtos  iteracoes_12m  meses_inativo_12m  limite_credito  \\\n",
       "0        blue             5              3                  1        12691.51   \n",
       "1        blue             6              2                  1         8256.96   \n",
       "2        blue             4              0                  1         3418.56   \n",
       "3        blue             3              1                  4         3313.03   \n",
       "4        blue             5              0                  1         4716.22   \n",
       "5        blue             3              2                  1         4010.69   \n",
       "6        gold             6              3                  1        34516.72   \n",
       "7      silver             2              2                  2        29081.49   \n",
       "8        blue             5              0                  2        22352.50   \n",
       "9        blue             6              3                  3        11656.41   \n",
       "\n",
       "   valor_transacoes_12m  qtd_transacoes_12m  \n",
       "0               1144.90                  42  \n",
       "1               1291.45                  33  \n",
       "2               1887.72                  20  \n",
       "3               1171.56                  20  \n",
       "4                816.08                  28  \n",
       "5               1088.07                  24  \n",
       "6               1330.87                  31  \n",
       "7               1538.32                  36  \n",
       "8               1350.14                  24  \n",
       "9               1441.73                  32  "
      ]
     },
     "execution_count": 12,
     "metadata": {},
     "output_type": "execute_result"
    }
   ],
   "source": [
    "pd.read_csv('https://raw.githubusercontent.com/guilherme-rhein/EDA---Exploratory-Data-Analysis-SQL/main/Queries%20Realizadas/Query%201.csv')"
   ]
  },
  {
   "cell_type": "markdown",
   "id": "7607c2f0",
   "metadata": {},
   "source": [
    "Realizando a primeira query verificamos a existência de dados nulos: \"NA\" (Not Available) ou também em alguns casos como: \"NaN\" (Not a Number) são geralmente usados para representar valores ausentes, em branco ou não disponíveis em uma tabela. Isso pode ocorrer por diversos motivos, como falhas na coleta de dados, erros de medição, ou simplesmente porque os dados não estão disponíveis para determinadas observações.\n",
    "\n",
    "É importante entender a natureza dos dados ausentes em seu conjunto de dados e escolher a abordagem de tratamento mais adequada para garantir a precisão e a integridade de suas análises."
   ]
  },
  {
   "cell_type": "markdown",
   "id": "2cdf299d",
   "metadata": {
    "papermill": {
     "duration": 0.020146,
     "end_time": "2023-05-23T19:02:06.126182",
     "exception": false,
     "start_time": "2023-05-23T19:02:06.106036",
     "status": "completed"
    },
    "tags": []
   },
   "source": [
    "[Retornar ao índice](#Índice)"
   ]
  },
  {
   "cell_type": "markdown",
   "id": "5234b33e",
   "metadata": {
    "papermill": {
     "duration": 0.019256,
     "end_time": "2023-05-23T19:02:06.165304",
     "exception": false,
     "start_time": "2023-05-23T19:02:06.146048",
     "status": "completed"
    },
    "tags": []
   },
   "source": [
    "### Número de Linhas da Amostra\n",
    "- **Query 2:**\n",
    "\n",
    "```sql\n",
    "SELECT COUNT(*) AS n_linhas\n",
    "FROM credito;\n",
    "```"
   ]
  },
  {
   "cell_type": "code",
   "execution_count": 13,
   "id": "d77a2cc2",
   "metadata": {
    "execution": {
     "iopub.execute_input": "2023-05-23T19:02:06.246061Z",
     "iopub.status.busy": "2023-05-23T19:02:06.245634Z",
     "iopub.status.idle": "2023-05-23T19:02:06.473748Z",
     "shell.execute_reply": "2023-05-23T19:02:06.472504Z"
    },
    "jupyter": {
     "source_hidden": true
    },
    "papermill": {
     "duration": 0.252002,
     "end_time": "2023-05-23T19:02:06.476448",
     "exception": false,
     "start_time": "2023-05-23T19:02:06.224446",
     "status": "completed"
    },
    "tags": []
   },
   "outputs": [
    {
     "data": {
      "text/html": [
       "<div>\n",
       "<style scoped>\n",
       "    .dataframe tbody tr th:only-of-type {\n",
       "        vertical-align: middle;\n",
       "    }\n",
       "\n",
       "    .dataframe tbody tr th {\n",
       "        vertical-align: top;\n",
       "    }\n",
       "\n",
       "    .dataframe thead th {\n",
       "        text-align: right;\n",
       "    }\n",
       "</style>\n",
       "<table border=\"1\" class=\"dataframe\">\n",
       "  <thead>\n",
       "    <tr style=\"text-align: right;\">\n",
       "      <th></th>\n",
       "      <th>n_linhas</th>\n",
       "    </tr>\n",
       "  </thead>\n",
       "  <tbody>\n",
       "    <tr>\n",
       "      <th>0</th>\n",
       "      <td>2564</td>\n",
       "    </tr>\n",
       "  </tbody>\n",
       "</table>\n",
       "</div>"
      ],
      "text/plain": [
       "   n_linhas\n",
       "0      2564"
      ]
     },
     "execution_count": 13,
     "metadata": {},
     "output_type": "execute_result"
    }
   ],
   "source": [
    "pd.read_csv('https://raw.githubusercontent.com/guilherme-rhein/EDA---Exploratory-Data-Analysis-SQL/main/Queries%20Realizadas/Query%202.csv')"
   ]
  },
  {
   "cell_type": "markdown",
   "id": "8e3f56c6",
   "metadata": {
    "papermill": {
     "duration": 0.020492,
     "end_time": "2023-05-23T19:02:06.517524",
     "exception": false,
     "start_time": "2023-05-23T19:02:06.497032",
     "status": "completed"
    },
    "tags": []
   },
   "source": [
    "Nossa **amostra** está utilizando um conjunto de dados com **2.564 linhas.**"
   ]
  },
  {
   "cell_type": "markdown",
   "id": "b0e67e50",
   "metadata": {
    "papermill": {
     "duration": 0.019651,
     "end_time": "2023-05-23T19:02:06.557182",
     "exception": false,
     "start_time": "2023-05-23T19:02:06.537531",
     "status": "completed"
    },
    "tags": []
   },
   "source": [
    "[Retornar ao índice](#Índice)"
   ]
  },
  {
   "cell_type": "markdown",
   "id": "d9db15c9",
   "metadata": {
    "papermill": {
     "duration": 0.020227,
     "end_time": "2023-05-23T19:02:06.59783",
     "exception": false,
     "start_time": "2023-05-23T19:02:06.577603",
     "status": "completed"
    },
    "tags": []
   },
   "source": [
    "### Tipos de Dados\n",
    "- **Query 3:**\n",
    "\n",
    "```sql\n",
    "DESCRIBE credito;\n",
    "```\n",
    "\n",
    "![Query 3](https://raw.githubusercontent.com/guilherme-rhein/EDA---Exploratory-Data-Analysis-SQL/main/Queries%20Realizadas/Query%203.JPG)"
   ]
  },
  {
   "cell_type": "markdown",
   "id": "aa006d87",
   "metadata": {
    "papermill": {
     "duration": 0.01967,
     "end_time": "2023-05-23T19:02:06.676743",
     "exception": false,
     "start_time": "2023-05-23T19:02:06.657073",
     "status": "completed"
    },
    "tags": []
   },
   "source": [
    "Esses são os diferentes tipos de informações que você podem ser armazenados em uma tabela de banco de dados:\n",
    "- **INT (Integer):** Neste caso poderá apenas conter números inteiros.\n",
    "- **TEXT ou STRING (Texto ou Cadeia de Caracteres):** Pode escrever qualquer coisa com letras e números, como o nome de uma cidade ou uma descrição.\n",
    "- **BIGINT (Big Integer):** Capaz de armazenar números inteiros muito grandes, como o número de habitantes de uma cidade.\n",
    "- **FLOAT (Floating Point Number):** Contém números com casas decimais, como um número utilizado para contabilidade."
   ]
  },
  {
   "cell_type": "markdown",
   "id": "e199bbe6",
   "metadata": {
    "papermill": {
     "duration": 0.019776,
     "end_time": "2023-05-23T19:02:06.757129",
     "exception": false,
     "start_time": "2023-05-23T19:02:06.737353",
     "status": "completed"
    },
    "tags": []
   },
   "source": [
    "### Dados da Coluna ```sexo```\n",
    "- **Query 4:**\n",
    "\n",
    "```sql\n",
    "SELECT DISTINCT sexo\n",
    "FROM credito;\n",
    "```"
   ]
  },
  {
   "cell_type": "code",
   "execution_count": 14,
   "id": "4decb84e",
   "metadata": {
    "execution": {
     "iopub.execute_input": "2023-05-23T19:02:06.838557Z",
     "iopub.status.busy": "2023-05-23T19:02:06.837732Z",
     "iopub.status.idle": "2023-05-23T19:02:07.043679Z",
     "shell.execute_reply": "2023-05-23T19:02:07.04252Z"
    },
    "jupyter": {
     "source_hidden": true
    },
    "papermill": {
     "duration": 0.229993,
     "end_time": "2023-05-23T19:02:07.046436",
     "exception": false,
     "start_time": "2023-05-23T19:02:06.816443",
     "status": "completed"
    },
    "tags": []
   },
   "outputs": [
    {
     "data": {
      "text/html": [
       "<div>\n",
       "<style scoped>\n",
       "    .dataframe tbody tr th:only-of-type {\n",
       "        vertical-align: middle;\n",
       "    }\n",
       "\n",
       "    .dataframe tbody tr th {\n",
       "        vertical-align: top;\n",
       "    }\n",
       "\n",
       "    .dataframe thead th {\n",
       "        text-align: right;\n",
       "    }\n",
       "</style>\n",
       "<table border=\"1\" class=\"dataframe\">\n",
       "  <thead>\n",
       "    <tr style=\"text-align: right;\">\n",
       "      <th></th>\n",
       "      <th>sexo</th>\n",
       "    </tr>\n",
       "  </thead>\n",
       "  <tbody>\n",
       "    <tr>\n",
       "      <th>0</th>\n",
       "      <td>F</td>\n",
       "    </tr>\n",
       "    <tr>\n",
       "      <th>1</th>\n",
       "      <td>M</td>\n",
       "    </tr>\n",
       "  </tbody>\n",
       "</table>\n",
       "</div>"
      ],
      "text/plain": [
       "  sexo\n",
       "0    F\n",
       "1    M"
      ]
     },
     "execution_count": 14,
     "metadata": {},
     "output_type": "execute_result"
    }
   ],
   "source": [
    "pd.read_csv('https://raw.githubusercontent.com/guilherme-rhein/EDA---Exploratory-Data-Analysis-SQL/main/Queries%20Realizadas/Query%204.csv')"
   ]
  },
  {
   "cell_type": "markdown",
   "id": "74998099",
   "metadata": {
    "papermill": {
     "duration": 0.020221,
     "end_time": "2023-05-23T19:02:07.087824",
     "exception": false,
     "start_time": "2023-05-23T19:02:07.067603",
     "status": "completed"
    },
    "tags": []
   },
   "source": [
    "Verificando os dados contidos na variável categórica **SEXO**, podemos notar que não há valores **nulos** na coluna."
   ]
  },
  {
   "cell_type": "markdown",
   "id": "faf3b485",
   "metadata": {},
   "source": [
    "### Quantidade de Clientes por Classe em ```sexo```\n",
    "- **Query 5:**\n",
    "\n",
    "```sql\n",
    "SELECT sexo,\n",
    "    COUNT(*) AS quantidade\n",
    "FROM credito\n",
    "GROUP BY sexo\n",
    "ORDER BY CASE\n",
    "        sexo\n",
    "        WHEN 'F' THEN 1\n",
    "        WHEN 'M' THEN 2 ELSE 3\n",
    "    END;\n",
    "```"
   ]
  },
  {
   "cell_type": "code",
   "execution_count": 15,
   "id": "6fdabb10",
   "metadata": {},
   "outputs": [
    {
     "data": {
      "text/html": [
       "<div>\n",
       "<style scoped>\n",
       "    .dataframe tbody tr th:only-of-type {\n",
       "        vertical-align: middle;\n",
       "    }\n",
       "\n",
       "    .dataframe tbody tr th {\n",
       "        vertical-align: top;\n",
       "    }\n",
       "\n",
       "    .dataframe thead th {\n",
       "        text-align: right;\n",
       "    }\n",
       "</style>\n",
       "<table border=\"1\" class=\"dataframe\">\n",
       "  <thead>\n",
       "    <tr style=\"text-align: right;\">\n",
       "      <th></th>\n",
       "      <th>sexo</th>\n",
       "      <th>quantidade</th>\n",
       "    </tr>\n",
       "  </thead>\n",
       "  <tbody>\n",
       "    <tr>\n",
       "      <th>0</th>\n",
       "      <td>F</td>\n",
       "      <td>1001</td>\n",
       "    </tr>\n",
       "    <tr>\n",
       "      <th>1</th>\n",
       "      <td>M</td>\n",
       "      <td>1563</td>\n",
       "    </tr>\n",
       "  </tbody>\n",
       "</table>\n",
       "</div>"
      ],
      "text/plain": [
       "  sexo  quantidade\n",
       "0    F        1001\n",
       "1    M        1563"
      ]
     },
     "execution_count": 15,
     "metadata": {},
     "output_type": "execute_result"
    }
   ],
   "source": [
    "pd.read_csv('https://raw.githubusercontent.com/guilherme-rhein/EDA---Exploratory-Data-Analysis-SQL/main/Queries%20Realizadas/Query5.csv')"
   ]
  },
  {
   "cell_type": "markdown",
   "id": "8e2d36e3",
   "metadata": {},
   "source": [
    "![Query 5.1](https://raw.githubusercontent.com/guilherme-rhein/EDA---Exploratory-Data-Analysis-SQL/main/Queries%20Realizadas/Query%205.1.JPG)"
   ]
  },
  {
   "cell_type": "markdown",
   "id": "3c4d3dcb",
   "metadata": {},
   "source": [
    "Podemos verificar claramente a diferença entre o número de clientes definidos como **M** muito maior que o público **F**. Se a distribuição na amostra não refletir a distribuição real da população, os resultados da análise podem estar enviesados. Por exemplo, se a amostra contiver muito mais homens do que mulheres, as conclusões da análise podem não ser generalizáveis para a população como um todo.\n",
    "\n",
    "Para mitigar esses problemas, é importante garantir que a amostra seja representativa da população-alvo. Isso pode envolver estratégias como estratificação da amostra por gênero ou ajuste nos resultados da análise para considerar o desequilíbrio na amostra."
   ]
  },
  {
   "cell_type": "markdown",
   "id": "7babecfc",
   "metadata": {
    "papermill": {
     "duration": 0.020088,
     "end_time": "2023-05-23T19:02:07.128297",
     "exception": false,
     "start_time": "2023-05-23T19:02:07.108209",
     "status": "completed"
    },
    "tags": []
   },
   "source": [
    "[Retornar ao índice](#Índice)"
   ]
  },
  {
   "cell_type": "markdown",
   "id": "42b87d7c",
   "metadata": {
    "papermill": {
     "duration": 0.020155,
     "end_time": "2023-05-23T19:02:07.168991",
     "exception": false,
     "start_time": "2023-05-23T19:02:07.148836",
     "status": "completed"
    },
    "tags": []
   },
   "source": [
    "### Dados da Coluna ```estado_civil```\n",
    "\n",
    "- **Query 6:**\n",
    "\n",
    "```sql\n",
    "SELECT DISTINCT estado_civil\n",
    "FROM credito;\n",
    "```"
   ]
  },
  {
   "cell_type": "code",
   "execution_count": 16,
   "id": "3f99fd0f",
   "metadata": {
    "execution": {
     "iopub.execute_input": "2023-05-23T19:02:07.252563Z",
     "iopub.status.busy": "2023-05-23T19:02:07.251726Z",
     "iopub.status.idle": "2023-05-23T19:02:07.466051Z",
     "shell.execute_reply": "2023-05-23T19:02:07.464741Z"
    },
    "jupyter": {
     "source_hidden": true
    },
    "papermill": {
     "duration": 0.238856,
     "end_time": "2023-05-23T19:02:07.468754",
     "exception": false,
     "start_time": "2023-05-23T19:02:07.229898",
     "status": "completed"
    },
    "tags": []
   },
   "outputs": [
    {
     "data": {
      "text/html": [
       "<div>\n",
       "<style scoped>\n",
       "    .dataframe tbody tr th:only-of-type {\n",
       "        vertical-align: middle;\n",
       "    }\n",
       "\n",
       "    .dataframe tbody tr th {\n",
       "        vertical-align: top;\n",
       "    }\n",
       "\n",
       "    .dataframe thead th {\n",
       "        text-align: right;\n",
       "    }\n",
       "</style>\n",
       "<table border=\"1\" class=\"dataframe\">\n",
       "  <thead>\n",
       "    <tr style=\"text-align: right;\">\n",
       "      <th></th>\n",
       "      <th>estado_civil</th>\n",
       "    </tr>\n",
       "  </thead>\n",
       "  <tbody>\n",
       "    <tr>\n",
       "      <th>0</th>\n",
       "      <td>divorciado</td>\n",
       "    </tr>\n",
       "    <tr>\n",
       "      <th>1</th>\n",
       "      <td>solteiro</td>\n",
       "    </tr>\n",
       "    <tr>\n",
       "      <th>2</th>\n",
       "      <td>na</td>\n",
       "    </tr>\n",
       "    <tr>\n",
       "      <th>3</th>\n",
       "      <td>casado</td>\n",
       "    </tr>\n",
       "  </tbody>\n",
       "</table>\n",
       "</div>"
      ],
      "text/plain": [
       "  estado_civil\n",
       "0   divorciado\n",
       "1     solteiro\n",
       "2           na\n",
       "3       casado"
      ]
     },
     "execution_count": 16,
     "metadata": {},
     "output_type": "execute_result"
    }
   ],
   "source": [
    "pd.read_csv('https://raw.githubusercontent.com/guilherme-rhein/EDA---Exploratory-Data-Analysis-SQL/main/Queries%20Realizadas/Query6.csv')"
   ]
  },
  {
   "cell_type": "markdown",
   "id": "9b938a92",
   "metadata": {
    "papermill": {
     "duration": 0.019987,
     "end_time": "2023-05-23T19:02:07.209107",
     "exception": false,
     "start_time": "2023-05-23T19:02:07.18912",
     "status": "completed"
    },
    "tags": []
   },
   "source": [
    "### Quantidade de Clientes por Classe em ```estado_civil```\n",
    "- **Query 7:**\n",
    "\n",
    "```sql\n",
    "SELECT estado_civil,\n",
    "    COUNT(*) AS quantidade\n",
    "FROM credito\n",
    "GROUP BY estado_civil\n",
    "```"
   ]
  },
  {
   "cell_type": "code",
   "execution_count": 17,
   "id": "05403ab8",
   "metadata": {},
   "outputs": [
    {
     "data": {
      "text/html": [
       "<div>\n",
       "<style scoped>\n",
       "    .dataframe tbody tr th:only-of-type {\n",
       "        vertical-align: middle;\n",
       "    }\n",
       "\n",
       "    .dataframe tbody tr th {\n",
       "        vertical-align: top;\n",
       "    }\n",
       "\n",
       "    .dataframe thead th {\n",
       "        text-align: right;\n",
       "    }\n",
       "</style>\n",
       "<table border=\"1\" class=\"dataframe\">\n",
       "  <thead>\n",
       "    <tr style=\"text-align: right;\">\n",
       "      <th></th>\n",
       "      <th>estado_civil</th>\n",
       "      <th>quantidade</th>\n",
       "    </tr>\n",
       "  </thead>\n",
       "  <tbody>\n",
       "    <tr>\n",
       "      <th>0</th>\n",
       "      <td>divorciado</td>\n",
       "      <td>161</td>\n",
       "    </tr>\n",
       "    <tr>\n",
       "      <th>1</th>\n",
       "      <td>na</td>\n",
       "      <td>116</td>\n",
       "    </tr>\n",
       "    <tr>\n",
       "      <th>2</th>\n",
       "      <td>casado</td>\n",
       "      <td>1521</td>\n",
       "    </tr>\n",
       "    <tr>\n",
       "      <th>3</th>\n",
       "      <td>solteiro</td>\n",
       "      <td>766</td>\n",
       "    </tr>\n",
       "  </tbody>\n",
       "</table>\n",
       "</div>"
      ],
      "text/plain": [
       "  estado_civil  quantidade\n",
       "0   divorciado         161\n",
       "1           na         116\n",
       "2       casado        1521\n",
       "3     solteiro         766"
      ]
     },
     "execution_count": 17,
     "metadata": {},
     "output_type": "execute_result"
    }
   ],
   "source": [
    "pd.read_csv('https://raw.githubusercontent.com/guilherme-rhein/EDA---Exploratory-Data-Analysis-SQL/main/Queries%20Realizadas/Query7.csv')"
   ]
  },
  {
   "cell_type": "markdown",
   "id": "3ee2cb17",
   "metadata": {},
   "source": [
    "![Query 7.1](https://raw.githubusercontent.com/guilherme-rhein/EDA---Exploratory-Data-Analysis-SQL/main/Queries%20Realizadas/Query%207.1.JPG)"
   ]
  },
  {
   "cell_type": "markdown",
   "id": "f4dde08a",
   "metadata": {},
   "source": [
    "Nesta coluna podemos verificar a existência de valores nulos, podemos definir utilizando a porcentagem para maior noção do peso neste caso: \n",
    "> **Divorciado - 6,3%**\n",
    "\n",
    "> **Na - 4,5%**\n",
    "\n",
    "> **Casado - 59,3%**\n",
    "\n",
    "> **Solteiro - 29,9%**\n"
   ]
  },
  {
   "cell_type": "markdown",
   "id": "bbe309bd",
   "metadata": {
    "papermill": {
     "duration": 0.0202,
     "end_time": "2023-05-23T19:02:07.550719",
     "exception": false,
     "start_time": "2023-05-23T19:02:07.530519",
     "status": "completed"
    },
    "tags": []
   },
   "source": [
    "[Retornar ao índice](#Índice)"
   ]
  },
  {
   "cell_type": "markdown",
   "id": "b466f2f2",
   "metadata": {
    "papermill": {
     "duration": 0.020309,
     "end_time": "2023-05-23T19:02:07.591479",
     "exception": false,
     "start_time": "2023-05-23T19:02:07.57117",
     "status": "completed"
    },
    "tags": []
   },
   "source": [
    "### Dados da Coluna ```tipo_cartao```\n",
    "\n",
    "- **Query 8:**\n",
    "\n",
    "```sql\n",
    "SELECT DISTINCT tipo_cartao\n",
    "FROM credito;\n",
    "```"
   ]
  },
  {
   "cell_type": "code",
   "execution_count": 3,
   "id": "40742681",
   "metadata": {
    "execution": {
     "iopub.execute_input": "2023-05-23T19:02:07.67604Z",
     "iopub.status.busy": "2023-05-23T19:02:07.675189Z",
     "iopub.status.idle": "2023-05-23T19:02:07.908308Z",
     "shell.execute_reply": "2023-05-23T19:02:07.907119Z"
    },
    "jupyter": {
     "source_hidden": true
    },
    "papermill": {
     "duration": 0.257676,
     "end_time": "2023-05-23T19:02:07.910739",
     "exception": false,
     "start_time": "2023-05-23T19:02:07.653063",
     "status": "completed"
    },
    "tags": []
   },
   "outputs": [
    {
     "data": {
      "text/html": [
       "<div>\n",
       "<style scoped>\n",
       "    .dataframe tbody tr th:only-of-type {\n",
       "        vertical-align: middle;\n",
       "    }\n",
       "\n",
       "    .dataframe tbody tr th {\n",
       "        vertical-align: top;\n",
       "    }\n",
       "\n",
       "    .dataframe thead th {\n",
       "        text-align: right;\n",
       "    }\n",
       "</style>\n",
       "<table border=\"1\" class=\"dataframe\">\n",
       "  <thead>\n",
       "    <tr style=\"text-align: right;\">\n",
       "      <th></th>\n",
       "      <th>tipo_cartao</th>\n",
       "    </tr>\n",
       "  </thead>\n",
       "  <tbody>\n",
       "    <tr>\n",
       "      <th>0</th>\n",
       "      <td>platinum</td>\n",
       "    </tr>\n",
       "    <tr>\n",
       "      <th>1</th>\n",
       "      <td>blue</td>\n",
       "    </tr>\n",
       "    <tr>\n",
       "      <th>2</th>\n",
       "      <td>gold</td>\n",
       "    </tr>\n",
       "    <tr>\n",
       "      <th>3</th>\n",
       "      <td>silver</td>\n",
       "    </tr>\n",
       "  </tbody>\n",
       "</table>\n",
       "</div>"
      ],
      "text/plain": [
       "  tipo_cartao\n",
       "0    platinum\n",
       "1        blue\n",
       "2        gold\n",
       "3      silver"
      ]
     },
     "execution_count": 3,
     "metadata": {},
     "output_type": "execute_result"
    }
   ],
   "source": [
    "pd.read_csv('https://raw.githubusercontent.com/guilherme-rhein/EDA---Exploratory-Data-Analysis-SQL/main/Queries%20Realizadas/Query8.csv')"
   ]
  },
  {
   "cell_type": "markdown",
   "id": "9c58a60f",
   "metadata": {
    "papermill": {
     "duration": 0.020115,
     "end_time": "2023-05-23T19:02:07.632082",
     "exception": false,
     "start_time": "2023-05-23T19:02:07.611967",
     "status": "completed"
    },
    "tags": []
   },
   "source": [
    "### Quantidade de Clientes por Classe em ```tipo_cartao```\n",
    "- **Query 9:**\n",
    "\n",
    "```sql\n",
    "SELECT tipo_cartao,\n",
    "    COUNT(*) AS quantidade\n",
    "FROM credito\n",
    "GROUP BY tipo_cartao\n",
    "```"
   ]
  },
  {
   "cell_type": "code",
   "execution_count": 4,
   "id": "35917594",
   "metadata": {},
   "outputs": [
    {
     "data": {
      "text/html": [
       "<div>\n",
       "<style scoped>\n",
       "    .dataframe tbody tr th:only-of-type {\n",
       "        vertical-align: middle;\n",
       "    }\n",
       "\n",
       "    .dataframe tbody tr th {\n",
       "        vertical-align: top;\n",
       "    }\n",
       "\n",
       "    .dataframe thead th {\n",
       "        text-align: right;\n",
       "    }\n",
       "</style>\n",
       "<table border=\"1\" class=\"dataframe\">\n",
       "  <thead>\n",
       "    <tr style=\"text-align: right;\">\n",
       "      <th></th>\n",
       "      <th>tipo_cartao</th>\n",
       "      <th>quantidade</th>\n",
       "    </tr>\n",
       "  </thead>\n",
       "  <tbody>\n",
       "    <tr>\n",
       "      <th>0</th>\n",
       "      <td>silver</td>\n",
       "      <td>93</td>\n",
       "    </tr>\n",
       "    <tr>\n",
       "      <th>1</th>\n",
       "      <td>platinum</td>\n",
       "      <td>2</td>\n",
       "    </tr>\n",
       "    <tr>\n",
       "      <th>2</th>\n",
       "      <td>blue</td>\n",
       "      <td>2453</td>\n",
       "    </tr>\n",
       "    <tr>\n",
       "      <th>3</th>\n",
       "      <td>gold</td>\n",
       "      <td>16</td>\n",
       "    </tr>\n",
       "  </tbody>\n",
       "</table>\n",
       "</div>"
      ],
      "text/plain": [
       "  tipo_cartao  quantidade\n",
       "0      silver          93\n",
       "1    platinum           2\n",
       "2        blue        2453\n",
       "3        gold          16"
      ]
     },
     "execution_count": 4,
     "metadata": {},
     "output_type": "execute_result"
    }
   ],
   "source": [
    "pd.read_csv('https://raw.githubusercontent.com/guilherme-rhein/EDA---Exploratory-Data-Analysis-SQL/main/Queries%20Realizadas/Query9.csv')"
   ]
  },
  {
   "cell_type": "markdown",
   "id": "668acd4a",
   "metadata": {},
   "source": [
    "![Query9.1](https://raw.githubusercontent.com/guilherme-rhein/EDA---Exploratory-Data-Analysis-SQL/main/Queries%20Realizadas/Query%209.1.JPG)"
   ]
  },
  {
   "cell_type": "markdown",
   "id": "bd4e8262",
   "metadata": {
    "papermill": {
     "duration": 0.021072,
     "end_time": "2023-05-23T19:02:07.994579",
     "exception": false,
     "start_time": "2023-05-23T19:02:07.973507",
     "status": "completed"
    },
    "tags": []
   },
   "source": [
    "[Retornar ao índice](#Índice)"
   ]
  },
  {
   "cell_type": "markdown",
   "id": "ab144ae7",
   "metadata": {
    "papermill": {
     "duration": 0.020488,
     "end_time": "2023-05-23T19:02:08.036033",
     "exception": false,
     "start_time": "2023-05-23T19:02:08.015545",
     "status": "completed"
    },
    "tags": []
   },
   "source": [
    "### Quantidade de Clientes por Classe em ```salario_anual```\n",
    "\n",
    "- **Query 10:**\n",
    "\n",
    "```sql\n",
    "SELECT salario_anual,\n",
    "\tCOUNT(*) AS quantidade\n",
    "FROM credito\n",
    "GROUP BY salario_anual\n",
    "ORDER BY CASE\n",
    "\t\tsalario_anual\n",
    "\t\tWHEN 'menos que $40K' THEN 1\n",
    "\t\tWHEN '$40K - $60K' THEN 2\n",
    "\t\tWHEN '$60K - $80K' THEN 3\n",
    "\t\tWHEN '$80K - $120K' THEN 4\n",
    "\t\tWHEN '$120K +' THEN 5 ELSE 6\n",
    "\tEND;\n",
    "```"
   ]
  },
  {
   "cell_type": "code",
   "execution_count": 2,
   "id": "ce3d7412",
   "metadata": {
    "execution": {
     "iopub.execute_input": "2023-05-23T19:02:08.121653Z",
     "iopub.status.busy": "2023-05-23T19:02:08.120943Z",
     "iopub.status.idle": "2023-05-23T19:02:08.348057Z",
     "shell.execute_reply": "2023-05-23T19:02:08.346736Z"
    },
    "papermill": {
     "duration": 0.252261,
     "end_time": "2023-05-23T19:02:08.350718",
     "exception": false,
     "start_time": "2023-05-23T19:02:08.098457",
     "status": "completed"
    },
    "tags": []
   },
   "outputs": [
    {
     "data": {
      "text/html": [
       "<div>\n",
       "<style scoped>\n",
       "    .dataframe tbody tr th:only-of-type {\n",
       "        vertical-align: middle;\n",
       "    }\n",
       "\n",
       "    .dataframe tbody tr th {\n",
       "        vertical-align: top;\n",
       "    }\n",
       "\n",
       "    .dataframe thead th {\n",
       "        text-align: right;\n",
       "    }\n",
       "</style>\n",
       "<table border=\"1\" class=\"dataframe\">\n",
       "  <thead>\n",
       "    <tr style=\"text-align: right;\">\n",
       "      <th></th>\n",
       "      <th>salario_anual</th>\n",
       "      <th>quantidade</th>\n",
       "    </tr>\n",
       "  </thead>\n",
       "  <tbody>\n",
       "    <tr>\n",
       "      <th>0</th>\n",
       "      <td>menos que $40K</td>\n",
       "      <td>701</td>\n",
       "    </tr>\n",
       "    <tr>\n",
       "      <th>1</th>\n",
       "      <td>$40K - $60K</td>\n",
       "      <td>467</td>\n",
       "    </tr>\n",
       "    <tr>\n",
       "      <th>2</th>\n",
       "      <td>$60K - $80K</td>\n",
       "      <td>451</td>\n",
       "    </tr>\n",
       "    <tr>\n",
       "      <th>3</th>\n",
       "      <td>$80K - $120K</td>\n",
       "      <td>488</td>\n",
       "    </tr>\n",
       "    <tr>\n",
       "      <th>4</th>\n",
       "      <td>$120K +</td>\n",
       "      <td>222</td>\n",
       "    </tr>\n",
       "    <tr>\n",
       "      <th>5</th>\n",
       "      <td>na</td>\n",
       "      <td>235</td>\n",
       "    </tr>\n",
       "  </tbody>\n",
       "</table>\n",
       "</div>"
      ],
      "text/plain": [
       "    salario_anual  quantidade\n",
       "0  menos que $40K         701\n",
       "1     $40K - $60K         467\n",
       "2     $60K - $80K         451\n",
       "3    $80K - $120K         488\n",
       "4         $120K +         222\n",
       "5              na         235"
      ]
     },
     "execution_count": 2,
     "metadata": {},
     "output_type": "execute_result"
    }
   ],
   "source": [
    "pd.read_csv('https://raw.githubusercontent.com/guilherme-rhein/EDA---Exploratory-Data-Analysis-SQL/main/Queries%20Realizadas/Query10.csv')"
   ]
  },
  {
   "cell_type": "markdown",
   "id": "f3de0fc5",
   "metadata": {
    "papermill": {
     "duration": 0.022115,
     "end_time": "2023-05-23T19:02:08.393953",
     "exception": false,
     "start_time": "2023-05-23T19:02:08.371838",
     "status": "completed"
    },
    "tags": []
   },
   "source": [
    "![query10.1](https://raw.githubusercontent.com/guilherme-rhein/EDA---Exploratory-Data-Analysis-SQL/main/Queries%20Realizadas/Query%2010.1.JPG)"
   ]
  },
  {
   "cell_type": "markdown",
   "id": "3c3712bf",
   "metadata": {},
   "source": [
    "Desconsiderando seus valores nulos que representam o número de 235, verificamos que em sua grande maioria os clientes ganham anualmente um valor menor que \\\\$40.000,00 porém uma pequena parte ganha mais que \\\\$120.000,00."
   ]
  },
  {
   "cell_type": "markdown",
   "id": "1c75ec47",
   "metadata": {
    "papermill": {
     "duration": 0.021019,
     "end_time": "2023-05-23T19:02:08.4362",
     "exception": false,
     "start_time": "2023-05-23T19:02:08.415181",
     "status": "completed"
    },
    "tags": []
   },
   "source": [
    "[Retornar ao índice](#Índice)"
   ]
  },
  {
   "cell_type": "markdown",
   "id": "97490c24",
   "metadata": {
    "papermill": {
     "duration": 0.020881,
     "end_time": "2023-05-23T19:02:08.478382",
     "exception": false,
     "start_time": "2023-05-23T19:02:08.457501",
     "status": "completed"
    },
    "tags": []
   },
   "source": [
    "### Quantidade de Clientes por Classe em ```escolaridade```\n",
    "\n",
    "- **Query 11:**\n",
    "\n",
    "```sql\n",
    "SELECT escolaridade,\n",
    "\tCOUNT(*) AS quantidade\n",
    "FROM credito\n",
    "GROUP BY escolaridade\n",
    "ORDER BY quantidade DESC;\n",
    "```"
   ]
  },
  {
   "cell_type": "code",
   "execution_count": 4,
   "id": "133f69e8",
   "metadata": {
    "papermill": {
     "duration": 0.020963,
     "end_time": "2023-05-23T19:02:08.520428",
     "exception": false,
     "start_time": "2023-05-23T19:02:08.499465",
     "status": "completed"
    },
    "tags": []
   },
   "outputs": [
    {
     "data": {
      "text/html": [
       "<div>\n",
       "<style scoped>\n",
       "    .dataframe tbody tr th:only-of-type {\n",
       "        vertical-align: middle;\n",
       "    }\n",
       "\n",
       "    .dataframe tbody tr th {\n",
       "        vertical-align: top;\n",
       "    }\n",
       "\n",
       "    .dataframe thead th {\n",
       "        text-align: right;\n",
       "    }\n",
       "</style>\n",
       "<table border=\"1\" class=\"dataframe\">\n",
       "  <thead>\n",
       "    <tr style=\"text-align: right;\">\n",
       "      <th></th>\n",
       "      <th>escolaridade</th>\n",
       "      <th>quantidade</th>\n",
       "    </tr>\n",
       "  </thead>\n",
       "  <tbody>\n",
       "    <tr>\n",
       "      <th>0</th>\n",
       "      <td>mestrado</td>\n",
       "      <td>810</td>\n",
       "    </tr>\n",
       "    <tr>\n",
       "      <th>1</th>\n",
       "      <td>ensino medio</td>\n",
       "      <td>545</td>\n",
       "    </tr>\n",
       "    <tr>\n",
       "      <th>2</th>\n",
       "      <td>sem educacao formal</td>\n",
       "      <td>367</td>\n",
       "    </tr>\n",
       "    <tr>\n",
       "      <th>3</th>\n",
       "      <td>na</td>\n",
       "      <td>346</td>\n",
       "    </tr>\n",
       "    <tr>\n",
       "      <th>4</th>\n",
       "      <td>graduacao</td>\n",
       "      <td>261</td>\n",
       "    </tr>\n",
       "    <tr>\n",
       "      <th>5</th>\n",
       "      <td>doutorado</td>\n",
       "      <td>235</td>\n",
       "    </tr>\n",
       "  </tbody>\n",
       "</table>\n",
       "</div>"
      ],
      "text/plain": [
       "          escolaridade  quantidade\n",
       "0             mestrado         810\n",
       "1         ensino medio         545\n",
       "2  sem educacao formal         367\n",
       "3                   na         346\n",
       "4            graduacao         261\n",
       "5            doutorado         235"
      ]
     },
     "execution_count": 4,
     "metadata": {},
     "output_type": "execute_result"
    }
   ],
   "source": [
    "pd.read_csv('https://raw.githubusercontent.com/guilherme-rhein/EDA---Exploratory-Data-Analysis-SQL/main/Queries%20Realizadas/Query%2011.csv')"
   ]
  },
  {
   "cell_type": "markdown",
   "id": "3d994791",
   "metadata": {
    "papermill": {
     "duration": 0.021728,
     "end_time": "2023-05-23T19:02:08.8407",
     "exception": false,
     "start_time": "2023-05-23T19:02:08.818972",
     "status": "completed"
    },
    "tags": []
   },
   "source": [
    "![query11.1](https://raw.githubusercontent.com/guilherme-rhein/EDA---Exploratory-Data-Analysis-SQL/main/Queries%20Realizadas/Query%2011.1.JPG)\n",
    "\n",
    "Nesta coluna podemos verificar a existência de valores nulos, podemos entender melhor sua representatividade utilizando a porcentagem: \n",
    "> **mestrado - 31,6%**\n",
    "\n",
    "> **ensino medio - 21,3%**\n",
    "\n",
    "> **sem educacao formal - 14,3%**\n",
    "\n",
    "> **na - 13,5%**\n",
    "\n",
    "> **graduacao - 10,2%**\n",
    "\n",
    "> **doutorado - 9,2%**"
   ]
  },
  {
   "cell_type": "markdown",
   "id": "d9b3abff",
   "metadata": {
    "papermill": {
     "duration": 0.021408,
     "end_time": "2023-05-23T19:02:08.884093",
     "exception": false,
     "start_time": "2023-05-23T19:02:08.862685",
     "status": "completed"
    },
    "tags": []
   },
   "source": [
    "[Retornar ao índice](#Índice)"
   ]
  },
  {
   "cell_type": "markdown",
   "id": "a86d995c",
   "metadata": {
    "papermill": {
     "duration": 0.021168,
     "end_time": "2023-05-23T19:02:08.927871",
     "exception": false,
     "start_time": "2023-05-23T19:02:08.906703",
     "status": "completed"
    },
    "tags": []
   },
   "source": [
    "## Análise de Valores Númericos"
   ]
  },
  {
   "cell_type": "markdown",
   "id": "a9f3669f",
   "metadata": {},
   "source": [
    "### Valor Mínimo, Máximo e Média na Coluna ```idade```\n",
    "\n",
    "- **Query 12:**\n",
    "\n",
    "```sql\n",
    "SELECT MIN(idade) AS min_idade,\n",
    "    ROUND(AVG(idade)) AS med_idade,\n",
    "    MAX(idade) AS max_idade\n",
    "FROM credito;\n",
    "```"
   ]
  },
  {
   "cell_type": "code",
   "execution_count": 6,
   "id": "c78bc867",
   "metadata": {
    "execution": {
     "iopub.execute_input": "2023-05-23T19:02:09.017426Z",
     "iopub.status.busy": "2023-05-23T19:02:09.016346Z",
     "iopub.status.idle": "2023-05-23T19:02:09.24645Z",
     "shell.execute_reply": "2023-05-23T19:02:09.245363Z"
    },
    "papermill": {
     "duration": 0.25608,
     "end_time": "2023-05-23T19:02:09.248982",
     "exception": false,
     "start_time": "2023-05-23T19:02:08.992902",
     "status": "completed"
    },
    "tags": []
   },
   "outputs": [
    {
     "data": {
      "text/html": [
       "<div>\n",
       "<style scoped>\n",
       "    .dataframe tbody tr th:only-of-type {\n",
       "        vertical-align: middle;\n",
       "    }\n",
       "\n",
       "    .dataframe tbody tr th {\n",
       "        vertical-align: top;\n",
       "    }\n",
       "\n",
       "    .dataframe thead th {\n",
       "        text-align: right;\n",
       "    }\n",
       "</style>\n",
       "<table border=\"1\" class=\"dataframe\">\n",
       "  <thead>\n",
       "    <tr style=\"text-align: right;\">\n",
       "      <th></th>\n",
       "      <th>min_idade</th>\n",
       "      <th>med_idade</th>\n",
       "      <th>max_idade</th>\n",
       "    </tr>\n",
       "  </thead>\n",
       "  <tbody>\n",
       "    <tr>\n",
       "      <th>0</th>\n",
       "      <td>26</td>\n",
       "      <td>46.0</td>\n",
       "      <td>73</td>\n",
       "    </tr>\n",
       "  </tbody>\n",
       "</table>\n",
       "</div>"
      ],
      "text/plain": [
       "   min_idade  med_idade  max_idade\n",
       "0         26       46.0         73"
      ]
     },
     "execution_count": 6,
     "metadata": {},
     "output_type": "execute_result"
    }
   ],
   "source": [
    "pd.read_csv('https://raw.githubusercontent.com/guilherme-rhein/EDA---Exploratory-Data-Analysis-SQL/main/Queries%20Realizadas/Query12.csv')"
   ]
  },
  {
   "cell_type": "markdown",
   "id": "f5a8f5c8",
   "metadata": {},
   "source": [
    "### Valor Mínimo, Máximo e Média na Coluna ```qtd_transacoes_12m```\n",
    "\n",
    "- **Query 13:**\n",
    "\n",
    "```sql\n",
    "SELECT MIN(qtd_transacoes_12m) AS min_qtd_transacoes_12m,\n",
    "    ROUND(AVG(qtd_transacoes_12m)) AS med_qtd_transacoes_12m,\n",
    "    MAX(qtd_transacoes_12m) AS max_qtd_transacoes_12m\n",
    "FROM credito;\n",
    "```"
   ]
  },
  {
   "cell_type": "code",
   "execution_count": 7,
   "id": "4103d3da",
   "metadata": {},
   "outputs": [
    {
     "data": {
      "text/html": [
       "<div>\n",
       "<style scoped>\n",
       "    .dataframe tbody tr th:only-of-type {\n",
       "        vertical-align: middle;\n",
       "    }\n",
       "\n",
       "    .dataframe tbody tr th {\n",
       "        vertical-align: top;\n",
       "    }\n",
       "\n",
       "    .dataframe thead th {\n",
       "        text-align: right;\n",
       "    }\n",
       "</style>\n",
       "<table border=\"1\" class=\"dataframe\">\n",
       "  <thead>\n",
       "    <tr style=\"text-align: right;\">\n",
       "      <th></th>\n",
       "      <th>min_qtd_transacoes_12m</th>\n",
       "      <th>med_qtd_transacoes_12m</th>\n",
       "      <th>max_qtd_transacoes_12m</th>\n",
       "    </tr>\n",
       "  </thead>\n",
       "  <tbody>\n",
       "    <tr>\n",
       "      <th>0</th>\n",
       "      <td>10</td>\n",
       "      <td>42.0</td>\n",
       "      <td>103</td>\n",
       "    </tr>\n",
       "  </tbody>\n",
       "</table>\n",
       "</div>"
      ],
      "text/plain": [
       "   min_qtd_transacoes_12m  med_qtd_transacoes_12m  max_qtd_transacoes_12m\n",
       "0                      10                    42.0                     103"
      ]
     },
     "execution_count": 7,
     "metadata": {},
     "output_type": "execute_result"
    }
   ],
   "source": [
    "pd.read_csv('https://raw.githubusercontent.com/guilherme-rhein/EDA---Exploratory-Data-Analysis-SQL/main/Queries%20Realizadas/Query13.csv')"
   ]
  },
  {
   "cell_type": "markdown",
   "id": "8769d392",
   "metadata": {
    "papermill": {
     "duration": 0.022011,
     "end_time": "2023-05-23T19:02:09.380498",
     "exception": false,
     "start_time": "2023-05-23T19:02:09.358487",
     "status": "completed"
    },
    "tags": []
   },
   "source": [
    "### Valor Mínimo, Máximo e Média na Coluna ```valor_transacoes_12m```\n",
    "\n",
    "- **Query 14:**\n",
    "\n",
    "```sql\n",
    "SELECT MIN(valor_transacoes_12m) AS min_valor_transacoes_12m,\n",
    "    ROUND(AVG(valor_transacoes_12m)) AS med_valor_transacoes_12m,\n",
    "    MAX(valor_transacoes_12m) AS max_valor_transacoes_12m\n",
    "FROM credito;\n",
    "```"
   ]
  },
  {
   "cell_type": "code",
   "execution_count": 8,
   "id": "b02ca7a7",
   "metadata": {},
   "outputs": [
    {
     "data": {
      "text/html": [
       "<div>\n",
       "<style scoped>\n",
       "    .dataframe tbody tr th:only-of-type {\n",
       "        vertical-align: middle;\n",
       "    }\n",
       "\n",
       "    .dataframe tbody tr th {\n",
       "        vertical-align: top;\n",
       "    }\n",
       "\n",
       "    .dataframe thead th {\n",
       "        text-align: right;\n",
       "    }\n",
       "</style>\n",
       "<table border=\"1\" class=\"dataframe\">\n",
       "  <thead>\n",
       "    <tr style=\"text-align: right;\">\n",
       "      <th></th>\n",
       "      <th>min_valor_transacoes_12m</th>\n",
       "      <th>med_valor_transacoes_12m</th>\n",
       "      <th>max_valor_transacoes_12m</th>\n",
       "    </tr>\n",
       "  </thead>\n",
       "  <tbody>\n",
       "    <tr>\n",
       "      <th>0</th>\n",
       "      <td>510.16</td>\n",
       "      <td>1820.0</td>\n",
       "      <td>4776.58</td>\n",
       "    </tr>\n",
       "  </tbody>\n",
       "</table>\n",
       "</div>"
      ],
      "text/plain": [
       "   min_valor_transacoes_12m  med_valor_transacoes_12m  \\\n",
       "0                    510.16                    1820.0   \n",
       "\n",
       "   max_valor_transacoes_12m  \n",
       "0                   4776.58  "
      ]
     },
     "execution_count": 8,
     "metadata": {},
     "output_type": "execute_result"
    }
   ],
   "source": [
    "pd.read_csv('https://raw.githubusercontent.com/guilherme-rhein/EDA---Exploratory-Data-Analysis-SQL/main/Queries%20Realizadas/Query14.csv')"
   ]
  },
  {
   "cell_type": "markdown",
   "id": "b184c642",
   "metadata": {
    "papermill": {
     "duration": 0.022111,
     "end_time": "2023-05-23T19:02:09.336446",
     "exception": false,
     "start_time": "2023-05-23T19:02:09.314335",
     "status": "completed"
    },
    "tags": []
   },
   "source": [
    "[Retornar ao índice](#Índice)"
   ]
  },
  {
   "cell_type": "markdown",
   "id": "b7b819a9",
   "metadata": {},
   "source": [
    "## Relacionando Diferentes Variáveis"
   ]
  },
  {
   "cell_type": "markdown",
   "id": "d493b055",
   "metadata": {
    "papermill": {
     "duration": 0.02294,
     "end_time": "2023-05-23T19:02:10.141272",
     "exception": false,
     "start_time": "2023-05-23T19:02:10.118332",
     "status": "completed"
    },
    "tags": []
   },
   "source": [
    "### Média da ```qtd_transacoes_12m``` relacionada com o tipo de ```tipo_cartao```, ```sexo``` e ```escolaridade```\n",
    "\n",
    "- **Query 15:**\n",
    "\n",
    "```sql\n",
    "SELECT COUNT(*) as quantidade,\n",
    "    AVG(qtd_transacoes_12m) AS media_qtd_transacoes,\n",
    "    tipo_cartao,\n",
    "    sexo,\n",
    "    escolaridade\n",
    "FROM credito\n",
    "WHERE escolaridade != 'na'\n",
    "GROUP BY sexo,\n",
    "    escolaridade,\n",
    "    tipo_cartao\n",
    "ORDER BY quantidade DESC;\n",
    "```"
   ]
  },
  {
   "cell_type": "code",
   "execution_count": 2,
   "id": "93735707",
   "metadata": {},
   "outputs": [
    {
     "data": {
      "text/html": [
       "<div>\n",
       "<style scoped>\n",
       "    .dataframe tbody tr th:only-of-type {\n",
       "        vertical-align: middle;\n",
       "    }\n",
       "\n",
       "    .dataframe tbody tr th {\n",
       "        vertical-align: top;\n",
       "    }\n",
       "\n",
       "    .dataframe thead th {\n",
       "        text-align: right;\n",
       "    }\n",
       "</style>\n",
       "<table border=\"1\" class=\"dataframe\">\n",
       "  <thead>\n",
       "    <tr style=\"text-align: right;\">\n",
       "      <th></th>\n",
       "      <th>quantidade</th>\n",
       "      <th>media_qtd_transacoes</th>\n",
       "      <th>tipo_cartao</th>\n",
       "      <th>sexo</th>\n",
       "      <th>escolaridade</th>\n",
       "    </tr>\n",
       "  </thead>\n",
       "  <tbody>\n",
       "    <tr>\n",
       "      <th>0</th>\n",
       "      <td>462</td>\n",
       "      <td>41.274892</td>\n",
       "      <td>blue</td>\n",
       "      <td>M</td>\n",
       "      <td>mestrado</td>\n",
       "    </tr>\n",
       "    <tr>\n",
       "      <th>1</th>\n",
       "      <td>330</td>\n",
       "      <td>40.496970</td>\n",
       "      <td>blue</td>\n",
       "      <td>M</td>\n",
       "      <td>ensino medio</td>\n",
       "    </tr>\n",
       "    <tr>\n",
       "      <th>2</th>\n",
       "      <td>316</td>\n",
       "      <td>41.553797</td>\n",
       "      <td>blue</td>\n",
       "      <td>F</td>\n",
       "      <td>mestrado</td>\n",
       "    </tr>\n",
       "    <tr>\n",
       "      <th>3</th>\n",
       "      <td>203</td>\n",
       "      <td>40.862069</td>\n",
       "      <td>blue</td>\n",
       "      <td>M</td>\n",
       "      <td>sem educacao formal</td>\n",
       "    </tr>\n",
       "    <tr>\n",
       "      <th>4</th>\n",
       "      <td>190</td>\n",
       "      <td>42.010526</td>\n",
       "      <td>blue</td>\n",
       "      <td>F</td>\n",
       "      <td>ensino medio</td>\n",
       "    </tr>\n",
       "    <tr>\n",
       "      <th>5</th>\n",
       "      <td>158</td>\n",
       "      <td>41.740506</td>\n",
       "      <td>blue</td>\n",
       "      <td>M</td>\n",
       "      <td>graduacao</td>\n",
       "    </tr>\n",
       "    <tr>\n",
       "      <th>6</th>\n",
       "      <td>148</td>\n",
       "      <td>41.682432</td>\n",
       "      <td>blue</td>\n",
       "      <td>F</td>\n",
       "      <td>sem educacao formal</td>\n",
       "    </tr>\n",
       "    <tr>\n",
       "      <th>7</th>\n",
       "      <td>133</td>\n",
       "      <td>42.759398</td>\n",
       "      <td>blue</td>\n",
       "      <td>M</td>\n",
       "      <td>doutorado</td>\n",
       "    </tr>\n",
       "    <tr>\n",
       "      <th>8</th>\n",
       "      <td>92</td>\n",
       "      <td>41.684783</td>\n",
       "      <td>blue</td>\n",
       "      <td>F</td>\n",
       "      <td>doutorado</td>\n",
       "    </tr>\n",
       "    <tr>\n",
       "      <th>9</th>\n",
       "      <td>91</td>\n",
       "      <td>45.791209</td>\n",
       "      <td>blue</td>\n",
       "      <td>F</td>\n",
       "      <td>graduacao</td>\n",
       "    </tr>\n",
       "    <tr>\n",
       "      <th>10</th>\n",
       "      <td>22</td>\n",
       "      <td>46.318182</td>\n",
       "      <td>silver</td>\n",
       "      <td>M</td>\n",
       "      <td>mestrado</td>\n",
       "    </tr>\n",
       "    <tr>\n",
       "      <th>11</th>\n",
       "      <td>14</td>\n",
       "      <td>41.357143</td>\n",
       "      <td>silver</td>\n",
       "      <td>M</td>\n",
       "      <td>ensino medio</td>\n",
       "    </tr>\n",
       "    <tr>\n",
       "      <th>12</th>\n",
       "      <td>9</td>\n",
       "      <td>42.222222</td>\n",
       "      <td>silver</td>\n",
       "      <td>F</td>\n",
       "      <td>sem educacao formal</td>\n",
       "    </tr>\n",
       "    <tr>\n",
       "      <th>13</th>\n",
       "      <td>7</td>\n",
       "      <td>46.285714</td>\n",
       "      <td>silver</td>\n",
       "      <td>M</td>\n",
       "      <td>sem educacao formal</td>\n",
       "    </tr>\n",
       "    <tr>\n",
       "      <th>14</th>\n",
       "      <td>7</td>\n",
       "      <td>34.857143</td>\n",
       "      <td>silver</td>\n",
       "      <td>M</td>\n",
       "      <td>graduacao</td>\n",
       "    </tr>\n",
       "    <tr>\n",
       "      <th>15</th>\n",
       "      <td>6</td>\n",
       "      <td>54.500000</td>\n",
       "      <td>silver</td>\n",
       "      <td>F</td>\n",
       "      <td>mestrado</td>\n",
       "    </tr>\n",
       "    <tr>\n",
       "      <th>16</th>\n",
       "      <td>5</td>\n",
       "      <td>38.400000</td>\n",
       "      <td>silver</td>\n",
       "      <td>F</td>\n",
       "      <td>doutorado</td>\n",
       "    </tr>\n",
       "    <tr>\n",
       "      <th>17</th>\n",
       "      <td>5</td>\n",
       "      <td>41.000000</td>\n",
       "      <td>silver</td>\n",
       "      <td>F</td>\n",
       "      <td>ensino medio</td>\n",
       "    </tr>\n",
       "    <tr>\n",
       "      <th>18</th>\n",
       "      <td>4</td>\n",
       "      <td>44.000000</td>\n",
       "      <td>gold</td>\n",
       "      <td>M</td>\n",
       "      <td>ensino medio</td>\n",
       "    </tr>\n",
       "    <tr>\n",
       "      <th>19</th>\n",
       "      <td>3</td>\n",
       "      <td>51.333333</td>\n",
       "      <td>silver</td>\n",
       "      <td>M</td>\n",
       "      <td>doutorado</td>\n",
       "    </tr>\n",
       "    <tr>\n",
       "      <th>20</th>\n",
       "      <td>3</td>\n",
       "      <td>29.666667</td>\n",
       "      <td>silver</td>\n",
       "      <td>F</td>\n",
       "      <td>graduacao</td>\n",
       "    </tr>\n",
       "    <tr>\n",
       "      <th>21</th>\n",
       "      <td>2</td>\n",
       "      <td>25.000000</td>\n",
       "      <td>gold</td>\n",
       "      <td>F</td>\n",
       "      <td>ensino medio</td>\n",
       "    </tr>\n",
       "    <tr>\n",
       "      <th>22</th>\n",
       "      <td>2</td>\n",
       "      <td>67.500000</td>\n",
       "      <td>gold</td>\n",
       "      <td>M</td>\n",
       "      <td>mestrado</td>\n",
       "    </tr>\n",
       "    <tr>\n",
       "      <th>23</th>\n",
       "      <td>1</td>\n",
       "      <td>86.000000</td>\n",
       "      <td>gold</td>\n",
       "      <td>M</td>\n",
       "      <td>doutorado</td>\n",
       "    </tr>\n",
       "    <tr>\n",
       "      <th>24</th>\n",
       "      <td>1</td>\n",
       "      <td>32.000000</td>\n",
       "      <td>gold</td>\n",
       "      <td>M</td>\n",
       "      <td>graduacao</td>\n",
       "    </tr>\n",
       "    <tr>\n",
       "      <th>25</th>\n",
       "      <td>1</td>\n",
       "      <td>29.000000</td>\n",
       "      <td>platinum</td>\n",
       "      <td>M</td>\n",
       "      <td>mestrado</td>\n",
       "    </tr>\n",
       "    <tr>\n",
       "      <th>26</th>\n",
       "      <td>1</td>\n",
       "      <td>65.000000</td>\n",
       "      <td>gold</td>\n",
       "      <td>F</td>\n",
       "      <td>mestrado</td>\n",
       "    </tr>\n",
       "    <tr>\n",
       "      <th>27</th>\n",
       "      <td>1</td>\n",
       "      <td>40.000000</td>\n",
       "      <td>platinum</td>\n",
       "      <td>F</td>\n",
       "      <td>doutorado</td>\n",
       "    </tr>\n",
       "    <tr>\n",
       "      <th>28</th>\n",
       "      <td>1</td>\n",
       "      <td>72.000000</td>\n",
       "      <td>gold</td>\n",
       "      <td>F</td>\n",
       "      <td>graduacao</td>\n",
       "    </tr>\n",
       "  </tbody>\n",
       "</table>\n",
       "</div>"
      ],
      "text/plain": [
       "    quantidade  media_qtd_transacoes tipo_cartao sexo         escolaridade\n",
       "0          462             41.274892        blue    M             mestrado\n",
       "1          330             40.496970        blue    M         ensino medio\n",
       "2          316             41.553797        blue    F             mestrado\n",
       "3          203             40.862069        blue    M  sem educacao formal\n",
       "4          190             42.010526        blue    F         ensino medio\n",
       "5          158             41.740506        blue    M            graduacao\n",
       "6          148             41.682432        blue    F  sem educacao formal\n",
       "7          133             42.759398        blue    M            doutorado\n",
       "8           92             41.684783        blue    F            doutorado\n",
       "9           91             45.791209        blue    F            graduacao\n",
       "10          22             46.318182      silver    M             mestrado\n",
       "11          14             41.357143      silver    M         ensino medio\n",
       "12           9             42.222222      silver    F  sem educacao formal\n",
       "13           7             46.285714      silver    M  sem educacao formal\n",
       "14           7             34.857143      silver    M            graduacao\n",
       "15           6             54.500000      silver    F             mestrado\n",
       "16           5             38.400000      silver    F            doutorado\n",
       "17           5             41.000000      silver    F         ensino medio\n",
       "18           4             44.000000        gold    M         ensino medio\n",
       "19           3             51.333333      silver    M            doutorado\n",
       "20           3             29.666667      silver    F            graduacao\n",
       "21           2             25.000000        gold    F         ensino medio\n",
       "22           2             67.500000        gold    M             mestrado\n",
       "23           1             86.000000        gold    M            doutorado\n",
       "24           1             32.000000        gold    M            graduacao\n",
       "25           1             29.000000    platinum    M             mestrado\n",
       "26           1             65.000000        gold    F             mestrado\n",
       "27           1             40.000000    platinum    F            doutorado\n",
       "28           1             72.000000        gold    F            graduacao"
      ]
     },
     "execution_count": 2,
     "metadata": {},
     "output_type": "execute_result"
    }
   ],
   "source": [
    "pd.read_csv('https://raw.githubusercontent.com/guilherme-rhein/EDA---Exploratory-Data-Analysis-SQL/main/Queries%20Realizadas/Query15.csv')"
   ]
  },
  {
   "cell_type": "markdown",
   "id": "86e107c0",
   "metadata": {},
   "source": [
    "Podemos definir as considerações iniciais com a observação da variável ```escolaridade```, que não há relação considerável com as demais variáveis. \n",
    "\n",
    "Os resultados das quantidades demonstram que o ```Cartão blue``` representa o cartão mais acessível sendo oferecido com maior facilidade aos seus clientes. A ```quantidade média de transações``` com valor mais alto ocorre nos ```cartões Gold```, ```Silver``` e ```Blue```. Porém pela quantidade e volume podemos definir o ```Cartão Blue``` como o vencedor das ```transações``` realizadas sendo destacado o ```sexo Masculino```."
   ]
  },
  {
   "cell_type": "markdown",
   "id": "5cb6e4ef",
   "metadata": {},
   "source": [
    "[Retornar ao índice](#Índice)"
   ]
  },
  {
   "cell_type": "markdown",
   "id": "a9a5241e",
   "metadata": {
    "papermill": {
     "duration": 0.022644,
     "end_time": "2023-05-23T19:02:10.186243",
     "exception": false,
     "start_time": "2023-05-23T19:02:10.163599",
     "status": "completed"
    },
    "tags": []
   },
   "source": [
    "### Média do ```limite_credito``` relacionado com o tipo de ```tipo_cartao```, ```sexo``` e ```escolaridade```\n",
    "\n",
    "- **Query 16:**\n",
    "\n",
    "```sql\n",
    "SELECT COUNT(*) as quantidade,\n",
    "    AVG(limite_credito) AS media_limite_credito,\n",
    "    sexo,\n",
    "    escolaridade,\n",
    "    tipo_cartao\n",
    "FROM credito\n",
    "WHERE escolaridade != 'na'\n",
    "GROUP BY sexo,\n",
    "    escolaridade,\n",
    "    tipo_cartao\n",
    "ORDER BY media_limite_credito DESC;\n",
    "```"
   ]
  },
  {
   "cell_type": "code",
   "execution_count": 2,
   "id": "db1caab2",
   "metadata": {
    "execution": {
     "iopub.execute_input": "2023-05-23T19:02:10.233862Z",
     "iopub.status.busy": "2023-05-23T19:02:10.233199Z",
     "iopub.status.idle": "2023-05-23T19:02:10.470103Z",
     "shell.execute_reply": "2023-05-23T19:02:10.468874Z"
    },
    "jupyter": {
     "source_hidden": true
    },
    "papermill": {
     "duration": 0.263783,
     "end_time": "2023-05-23T19:02:10.47261",
     "exception": false,
     "start_time": "2023-05-23T19:02:10.208827",
     "status": "completed"
    },
    "tags": []
   },
   "outputs": [
    {
     "data": {
      "text/html": [
       "<div>\n",
       "<style scoped>\n",
       "    .dataframe tbody tr th:only-of-type {\n",
       "        vertical-align: middle;\n",
       "    }\n",
       "\n",
       "    .dataframe tbody tr th {\n",
       "        vertical-align: top;\n",
       "    }\n",
       "\n",
       "    .dataframe thead th {\n",
       "        text-align: right;\n",
       "    }\n",
       "</style>\n",
       "<table border=\"1\" class=\"dataframe\">\n",
       "  <thead>\n",
       "    <tr style=\"text-align: right;\">\n",
       "      <th></th>\n",
       "      <th>quantidade</th>\n",
       "      <th>media_limite_credito</th>\n",
       "      <th>sexo</th>\n",
       "      <th>escolaridade</th>\n",
       "      <th>tipo_cartao</th>\n",
       "    </tr>\n",
       "  </thead>\n",
       "  <tbody>\n",
       "    <tr>\n",
       "      <th>0</th>\n",
       "      <td>1</td>\n",
       "      <td>34516.9600</td>\n",
       "      <td>F</td>\n",
       "      <td>doutorado</td>\n",
       "      <td>platinum</td>\n",
       "    </tr>\n",
       "    <tr>\n",
       "      <th>1</th>\n",
       "      <td>2</td>\n",
       "      <td>34516.9450</td>\n",
       "      <td>M</td>\n",
       "      <td>mestrado</td>\n",
       "      <td>gold</td>\n",
       "    </tr>\n",
       "    <tr>\n",
       "      <th>2</th>\n",
       "      <td>1</td>\n",
       "      <td>34516.9400</td>\n",
       "      <td>M</td>\n",
       "      <td>graduacao</td>\n",
       "      <td>gold</td>\n",
       "    </tr>\n",
       "    <tr>\n",
       "      <th>3</th>\n",
       "      <td>1</td>\n",
       "      <td>34516.9400</td>\n",
       "      <td>F</td>\n",
       "      <td>graduacao</td>\n",
       "      <td>gold</td>\n",
       "    </tr>\n",
       "    <tr>\n",
       "      <th>4</th>\n",
       "      <td>4</td>\n",
       "      <td>34516.8360</td>\n",
       "      <td>M</td>\n",
       "      <td>ensino medio</td>\n",
       "      <td>gold</td>\n",
       "    </tr>\n",
       "    <tr>\n",
       "      <th>5</th>\n",
       "      <td>1</td>\n",
       "      <td>34516.2500</td>\n",
       "      <td>M</td>\n",
       "      <td>mestrado</td>\n",
       "      <td>platinum</td>\n",
       "    </tr>\n",
       "    <tr>\n",
       "      <th>6</th>\n",
       "      <td>1</td>\n",
       "      <td>34516.1600</td>\n",
       "      <td>M</td>\n",
       "      <td>doutorado</td>\n",
       "      <td>gold</td>\n",
       "    </tr>\n",
       "    <tr>\n",
       "      <th>7</th>\n",
       "      <td>7</td>\n",
       "      <td>33407.1500</td>\n",
       "      <td>M</td>\n",
       "      <td>graduacao</td>\n",
       "      <td>silver</td>\n",
       "    </tr>\n",
       "    <tr>\n",
       "      <th>8</th>\n",
       "      <td>7</td>\n",
       "      <td>30228.2000</td>\n",
       "      <td>M</td>\n",
       "      <td>sem educacao formal</td>\n",
       "      <td>silver</td>\n",
       "    </tr>\n",
       "    <tr>\n",
       "      <th>9</th>\n",
       "      <td>22</td>\n",
       "      <td>29211.0720</td>\n",
       "      <td>M</td>\n",
       "      <td>mestrado</td>\n",
       "      <td>silver</td>\n",
       "    </tr>\n",
       "    <tr>\n",
       "      <th>10</th>\n",
       "      <td>3</td>\n",
       "      <td>28163.9800</td>\n",
       "      <td>M</td>\n",
       "      <td>doutorado</td>\n",
       "      <td>silver</td>\n",
       "    </tr>\n",
       "    <tr>\n",
       "      <th>11</th>\n",
       "      <td>14</td>\n",
       "      <td>25718.6200</td>\n",
       "      <td>M</td>\n",
       "      <td>ensino medio</td>\n",
       "      <td>silver</td>\n",
       "    </tr>\n",
       "    <tr>\n",
       "      <th>12</th>\n",
       "      <td>9</td>\n",
       "      <td>22287.6460</td>\n",
       "      <td>F</td>\n",
       "      <td>sem educacao formal</td>\n",
       "      <td>silver</td>\n",
       "    </tr>\n",
       "    <tr>\n",
       "      <th>13</th>\n",
       "      <td>3</td>\n",
       "      <td>20870.6500</td>\n",
       "      <td>F</td>\n",
       "      <td>graduacao</td>\n",
       "      <td>silver</td>\n",
       "    </tr>\n",
       "    <tr>\n",
       "      <th>14</th>\n",
       "      <td>5</td>\n",
       "      <td>16816.8770</td>\n",
       "      <td>F</td>\n",
       "      <td>doutorado</td>\n",
       "      <td>silver</td>\n",
       "    </tr>\n",
       "    <tr>\n",
       "      <th>15</th>\n",
       "      <td>1</td>\n",
       "      <td>15987.7800</td>\n",
       "      <td>F</td>\n",
       "      <td>mestrado</td>\n",
       "      <td>gold</td>\n",
       "    </tr>\n",
       "    <tr>\n",
       "      <th>16</th>\n",
       "      <td>6</td>\n",
       "      <td>15873.2790</td>\n",
       "      <td>F</td>\n",
       "      <td>mestrado</td>\n",
       "      <td>silver</td>\n",
       "    </tr>\n",
       "    <tr>\n",
       "      <th>17</th>\n",
       "      <td>2</td>\n",
       "      <td>15484.1000</td>\n",
       "      <td>F</td>\n",
       "      <td>ensino medio</td>\n",
       "      <td>gold</td>\n",
       "    </tr>\n",
       "    <tr>\n",
       "      <th>18</th>\n",
       "      <td>5</td>\n",
       "      <td>12341.2960</td>\n",
       "      <td>F</td>\n",
       "      <td>ensino medio</td>\n",
       "      <td>silver</td>\n",
       "    </tr>\n",
       "    <tr>\n",
       "      <th>19</th>\n",
       "      <td>133</td>\n",
       "      <td>11263.9230</td>\n",
       "      <td>M</td>\n",
       "      <td>doutorado</td>\n",
       "      <td>blue</td>\n",
       "    </tr>\n",
       "    <tr>\n",
       "      <th>20</th>\n",
       "      <td>158</td>\n",
       "      <td>11248.2750</td>\n",
       "      <td>M</td>\n",
       "      <td>graduacao</td>\n",
       "      <td>blue</td>\n",
       "    </tr>\n",
       "    <tr>\n",
       "      <th>21</th>\n",
       "      <td>203</td>\n",
       "      <td>10741.6540</td>\n",
       "      <td>M</td>\n",
       "      <td>sem educacao formal</td>\n",
       "      <td>blue</td>\n",
       "    </tr>\n",
       "    <tr>\n",
       "      <th>22</th>\n",
       "      <td>462</td>\n",
       "      <td>9944.8790</td>\n",
       "      <td>M</td>\n",
       "      <td>mestrado</td>\n",
       "      <td>blue</td>\n",
       "    </tr>\n",
       "    <tr>\n",
       "      <th>23</th>\n",
       "      <td>330</td>\n",
       "      <td>9808.0030</td>\n",
       "      <td>M</td>\n",
       "      <td>ensino medio</td>\n",
       "      <td>blue</td>\n",
       "    </tr>\n",
       "    <tr>\n",
       "      <th>24</th>\n",
       "      <td>190</td>\n",
       "      <td>5612.0615</td>\n",
       "      <td>F</td>\n",
       "      <td>ensino medio</td>\n",
       "      <td>blue</td>\n",
       "    </tr>\n",
       "    <tr>\n",
       "      <th>25</th>\n",
       "      <td>148</td>\n",
       "      <td>5468.4526</td>\n",
       "      <td>F</td>\n",
       "      <td>sem educacao formal</td>\n",
       "      <td>blue</td>\n",
       "    </tr>\n",
       "    <tr>\n",
       "      <th>26</th>\n",
       "      <td>92</td>\n",
       "      <td>5197.7540</td>\n",
       "      <td>F</td>\n",
       "      <td>doutorado</td>\n",
       "      <td>blue</td>\n",
       "    </tr>\n",
       "    <tr>\n",
       "      <th>27</th>\n",
       "      <td>91</td>\n",
       "      <td>4998.4690</td>\n",
       "      <td>F</td>\n",
       "      <td>graduacao</td>\n",
       "      <td>blue</td>\n",
       "    </tr>\n",
       "    <tr>\n",
       "      <th>28</th>\n",
       "      <td>316</td>\n",
       "      <td>4954.3480</td>\n",
       "      <td>F</td>\n",
       "      <td>mestrado</td>\n",
       "      <td>blue</td>\n",
       "    </tr>\n",
       "  </tbody>\n",
       "</table>\n",
       "</div>"
      ],
      "text/plain": [
       "    quantidade  media_limite_credito sexo         escolaridade tipo_cartao\n",
       "0            1            34516.9600    F            doutorado    platinum\n",
       "1            2            34516.9450    M             mestrado        gold\n",
       "2            1            34516.9400    M            graduacao        gold\n",
       "3            1            34516.9400    F            graduacao        gold\n",
       "4            4            34516.8360    M         ensino medio        gold\n",
       "5            1            34516.2500    M             mestrado    platinum\n",
       "6            1            34516.1600    M            doutorado        gold\n",
       "7            7            33407.1500    M            graduacao      silver\n",
       "8            7            30228.2000    M  sem educacao formal      silver\n",
       "9           22            29211.0720    M             mestrado      silver\n",
       "10           3            28163.9800    M            doutorado      silver\n",
       "11          14            25718.6200    M         ensino medio      silver\n",
       "12           9            22287.6460    F  sem educacao formal      silver\n",
       "13           3            20870.6500    F            graduacao      silver\n",
       "14           5            16816.8770    F            doutorado      silver\n",
       "15           1            15987.7800    F             mestrado        gold\n",
       "16           6            15873.2790    F             mestrado      silver\n",
       "17           2            15484.1000    F         ensino medio        gold\n",
       "18           5            12341.2960    F         ensino medio      silver\n",
       "19         133            11263.9230    M            doutorado        blue\n",
       "20         158            11248.2750    M            graduacao        blue\n",
       "21         203            10741.6540    M  sem educacao formal        blue\n",
       "22         462             9944.8790    M             mestrado        blue\n",
       "23         330             9808.0030    M         ensino medio        blue\n",
       "24         190             5612.0615    F         ensino medio        blue\n",
       "25         148             5468.4526    F  sem educacao formal        blue\n",
       "26          92             5197.7540    F            doutorado        blue\n",
       "27          91             4998.4690    F            graduacao        blue\n",
       "28         316             4954.3480    F             mestrado        blue"
      ]
     },
     "execution_count": 2,
     "metadata": {},
     "output_type": "execute_result"
    }
   ],
   "source": [
    "pd.read_csv('https://raw.githubusercontent.com/guilherme-rhein/EDA---Exploratory-Data-Analysis-SQL/main/Queries%20Realizadas/Query16.csv')"
   ]
  },
  {
   "cell_type": "markdown",
   "id": "afe8d92e",
   "metadata": {},
   "source": [
    "Neste caso utilizamos a coluna ```media_limite_credito``` organizada do maior para o menor valor para melhor visualização de como o ```limite de crédito``` ocorre nestes casos. \n",
    "\n",
    "Com o maior valor de ```media_limite_credito``` para o tipo de cartão sendo do tipo ```cartão Platinum``` o ```sexo Feminino``` se destaca dos demais porém com apenas 1 ocorrência.\n",
    "\n",
    "O segundo maior valor de ```media_limite_credito``` para o tipo de cartão sendo sendo do tipo ```cartão Gold``` ocorre para o ```sexo Masculino``` com maior número de ocorrências.\n",
    "\n",
    "O terceiro maior valor de ```media_limite_credito``` para o tipo de cartão sendo sendo do tipo ```cartão Silver``` ocorre para o ```sexo Masculino``` com maior número de ocorrências, assim como também para o tipo de cartão ```Blue```."
   ]
  },
  {
   "cell_type": "markdown",
   "id": "df30d09d",
   "metadata": {
    "papermill": {
     "duration": 0.022496,
     "end_time": "2023-05-23T19:02:10.51893",
     "exception": false,
     "start_time": "2023-05-23T19:02:10.496434",
     "status": "completed"
    },
    "tags": []
   },
   "source": [
    "[Retornar ao índice](#Índice)"
   ]
  },
  {
   "cell_type": "markdown",
   "id": "617f58a9",
   "metadata": {
    "papermill": {
     "duration": 0.023509,
     "end_time": "2023-05-23T19:02:11.510826",
     "exception": false,
     "start_time": "2023-05-23T19:02:11.487317",
     "status": "completed"
    },
    "tags": []
   },
   "source": [
    "### Médias de ```limite_credito```, ```qtd_transacoes_12m```, ```valor_transacoes_12m``` relacionadas com o ```tipo_cartao``` e ```salario_anual```\n",
    "\n",
    "- **Query 17:**\n",
    "\n",
    "\n",
    "```sql\n",
    "SELECT COUNT(*) AS quantidade,\n",
    "    tipo_cartao,\n",
    "    salario_anual,\n",
    "    ROUND(AVG(limite_credito), 2) AS media_limite_credito,\n",
    "    AVG(qtd_transacoes_12m) AS media_qtd_transacoes,\n",
    "\tROUND(AVG(valor_transacoes_12m), 2) AS media_valor_transacoes\n",
    "FROM credito\n",
    "WHERE salario_anual != 'na'\n",
    "GROUP BY tipo_cartao,\n",
    "\tsalario_anual\n",
    "ORDER BY CASE\n",
    "\t\ttipo_cartao\n",
    "\t\tWHEN 'blue' THEN 1\n",
    "\t\tWHEN 'silver' THEN 2\n",
    "\t\tWHEN 'gold' THEN 3 ELSE 4\n",
    "\tEND,\n",
    "\tCASE\n",
    "\t\tsalario_anual\n",
    "\t\tWHEN 'menos que $40K' THEN 1\n",
    "\t\tWHEN '$40K - $60K' THEN 2\n",
    "\t\tWHEN '$60K - $80K' THEN 3\n",
    "\t\tWHEN '$80K - $120K' THEN 4\n",
    "\t\tWHEN '$120K +' THEN 5 ELSE 6\n",
    "\tEND;\n",
    "```"
   ]
  },
  {
   "cell_type": "code",
   "execution_count": 2,
   "id": "95134f88",
   "metadata": {
    "execution": {
     "iopub.execute_input": "2023-05-23T19:02:11.610038Z",
     "iopub.status.busy": "2023-05-23T19:02:11.609211Z",
     "iopub.status.idle": "2023-05-23T19:02:12.05458Z",
     "shell.execute_reply": "2023-05-23T19:02:12.053496Z"
    },
    "jupyter": {
     "source_hidden": true
    },
    "papermill": {
     "duration": 0.473398,
     "end_time": "2023-05-23T19:02:12.057105",
     "exception": false,
     "start_time": "2023-05-23T19:02:11.583707",
     "status": "completed"
    },
    "tags": []
   },
   "outputs": [
    {
     "data": {
      "text/html": [
       "<div>\n",
       "<style scoped>\n",
       "    .dataframe tbody tr th:only-of-type {\n",
       "        vertical-align: middle;\n",
       "    }\n",
       "\n",
       "    .dataframe tbody tr th {\n",
       "        vertical-align: top;\n",
       "    }\n",
       "\n",
       "    .dataframe thead th {\n",
       "        text-align: right;\n",
       "    }\n",
       "</style>\n",
       "<table border=\"1\" class=\"dataframe\">\n",
       "  <thead>\n",
       "    <tr style=\"text-align: right;\">\n",
       "      <th></th>\n",
       "      <th>quantidade</th>\n",
       "      <th>tipo_cartao</th>\n",
       "      <th>salario_anual</th>\n",
       "      <th>media_limite_credito</th>\n",
       "      <th>media_qtd_transacoes</th>\n",
       "      <th>media_valor_transacoes</th>\n",
       "    </tr>\n",
       "  </thead>\n",
       "  <tbody>\n",
       "    <tr>\n",
       "      <th>0</th>\n",
       "      <td>677</td>\n",
       "      <td>blue</td>\n",
       "      <td>menos que $40K</td>\n",
       "      <td>3797.09</td>\n",
       "      <td>43.0</td>\n",
       "      <td>1857.24</td>\n",
       "    </tr>\n",
       "    <tr>\n",
       "      <th>1</th>\n",
       "      <td>449</td>\n",
       "      <td>blue</td>\n",
       "      <td>$40K - $60K</td>\n",
       "      <td>4832.76</td>\n",
       "      <td>42.0</td>\n",
       "      <td>1841.51</td>\n",
       "    </tr>\n",
       "    <tr>\n",
       "      <th>2</th>\n",
       "      <td>431</td>\n",
       "      <td>blue</td>\n",
       "      <td>$60K - $80K</td>\n",
       "      <td>8061.38</td>\n",
       "      <td>41.0</td>\n",
       "      <td>1814.45</td>\n",
       "    </tr>\n",
       "    <tr>\n",
       "      <th>3</th>\n",
       "      <td>461</td>\n",
       "      <td>blue</td>\n",
       "      <td>$80K - $120K</td>\n",
       "      <td>13736.87</td>\n",
       "      <td>40.0</td>\n",
       "      <td>1748.57</td>\n",
       "    </tr>\n",
       "    <tr>\n",
       "      <th>4</th>\n",
       "      <td>212</td>\n",
       "      <td>blue</td>\n",
       "      <td>$120K +</td>\n",
       "      <td>17105.39</td>\n",
       "      <td>40.0</td>\n",
       "      <td>1707.02</td>\n",
       "    </tr>\n",
       "    <tr>\n",
       "      <th>5</th>\n",
       "      <td>20</td>\n",
       "      <td>silver</td>\n",
       "      <td>menos que $40K</td>\n",
       "      <td>12007.81</td>\n",
       "      <td>45.0</td>\n",
       "      <td>2120.20</td>\n",
       "    </tr>\n",
       "    <tr>\n",
       "      <th>6</th>\n",
       "      <td>17</td>\n",
       "      <td>silver</td>\n",
       "      <td>$40K - $60K</td>\n",
       "      <td>17870.18</td>\n",
       "      <td>43.0</td>\n",
       "      <td>1776.94</td>\n",
       "    </tr>\n",
       "    <tr>\n",
       "      <th>7</th>\n",
       "      <td>15</td>\n",
       "      <td>silver</td>\n",
       "      <td>$60K - $80K</td>\n",
       "      <td>30351.36</td>\n",
       "      <td>39.0</td>\n",
       "      <td>1610.78</td>\n",
       "    </tr>\n",
       "    <tr>\n",
       "      <th>8</th>\n",
       "      <td>22</td>\n",
       "      <td>silver</td>\n",
       "      <td>$80K - $120K</td>\n",
       "      <td>34516.40</td>\n",
       "      <td>45.0</td>\n",
       "      <td>1910.17</td>\n",
       "    </tr>\n",
       "    <tr>\n",
       "      <th>9</th>\n",
       "      <td>9</td>\n",
       "      <td>silver</td>\n",
       "      <td>$120K +</td>\n",
       "      <td>32341.10</td>\n",
       "      <td>41.0</td>\n",
       "      <td>1611.85</td>\n",
       "    </tr>\n",
       "    <tr>\n",
       "      <th>10</th>\n",
       "      <td>4</td>\n",
       "      <td>gold</td>\n",
       "      <td>menos que $40K</td>\n",
       "      <td>15735.89</td>\n",
       "      <td>38.0</td>\n",
       "      <td>1502.60</td>\n",
       "    </tr>\n",
       "    <tr>\n",
       "      <th>11</th>\n",
       "      <td>1</td>\n",
       "      <td>gold</td>\n",
       "      <td>$40K - $60K</td>\n",
       "      <td>23981.32</td>\n",
       "      <td>34.0</td>\n",
       "      <td>1421.27</td>\n",
       "    </tr>\n",
       "    <tr>\n",
       "      <th>12</th>\n",
       "      <td>5</td>\n",
       "      <td>gold</td>\n",
       "      <td>$60K - $80K</td>\n",
       "      <td>34516.77</td>\n",
       "      <td>58.0</td>\n",
       "      <td>2802.68</td>\n",
       "    </tr>\n",
       "    <tr>\n",
       "      <th>13</th>\n",
       "      <td>4</td>\n",
       "      <td>gold</td>\n",
       "      <td>$80K - $120K</td>\n",
       "      <td>34516.84</td>\n",
       "      <td>44.0</td>\n",
       "      <td>1823.24</td>\n",
       "    </tr>\n",
       "    <tr>\n",
       "      <th>14</th>\n",
       "      <td>1</td>\n",
       "      <td>gold</td>\n",
       "      <td>$120K +</td>\n",
       "      <td>34516.72</td>\n",
       "      <td>31.0</td>\n",
       "      <td>1330.87</td>\n",
       "    </tr>\n",
       "    <tr>\n",
       "      <th>15</th>\n",
       "      <td>1</td>\n",
       "      <td>platinum</td>\n",
       "      <td>$80K - $120K</td>\n",
       "      <td>34516.25</td>\n",
       "      <td>29.0</td>\n",
       "      <td>1156.61</td>\n",
       "    </tr>\n",
       "  </tbody>\n",
       "</table>\n",
       "</div>"
      ],
      "text/plain": [
       "    quantidade tipo_cartao   salario_anual  media_limite_credito  \\\n",
       "0          677        blue  menos que $40K               3797.09   \n",
       "1          449        blue     $40K - $60K               4832.76   \n",
       "2          431        blue     $60K - $80K               8061.38   \n",
       "3          461        blue    $80K - $120K              13736.87   \n",
       "4          212        blue         $120K +              17105.39   \n",
       "5           20      silver  menos que $40K              12007.81   \n",
       "6           17      silver     $40K - $60K              17870.18   \n",
       "7           15      silver     $60K - $80K              30351.36   \n",
       "8           22      silver    $80K - $120K              34516.40   \n",
       "9            9      silver         $120K +              32341.10   \n",
       "10           4        gold  menos que $40K              15735.89   \n",
       "11           1        gold     $40K - $60K              23981.32   \n",
       "12           5        gold     $60K - $80K              34516.77   \n",
       "13           4        gold    $80K - $120K              34516.84   \n",
       "14           1        gold         $120K +              34516.72   \n",
       "15           1    platinum    $80K - $120K              34516.25   \n",
       "\n",
       "    media_qtd_transacoes  media_valor_transacoes  \n",
       "0                   43.0                 1857.24  \n",
       "1                   42.0                 1841.51  \n",
       "2                   41.0                 1814.45  \n",
       "3                   40.0                 1748.57  \n",
       "4                   40.0                 1707.02  \n",
       "5                   45.0                 2120.20  \n",
       "6                   43.0                 1776.94  \n",
       "7                   39.0                 1610.78  \n",
       "8                   45.0                 1910.17  \n",
       "9                   41.0                 1611.85  \n",
       "10                  38.0                 1502.60  \n",
       "11                  34.0                 1421.27  \n",
       "12                  58.0                 2802.68  \n",
       "13                  44.0                 1823.24  \n",
       "14                  31.0                 1330.87  \n",
       "15                  29.0                 1156.61  "
      ]
     },
     "execution_count": 2,
     "metadata": {},
     "output_type": "execute_result"
    }
   ],
   "source": [
    "pd.read_csv('https://raw.githubusercontent.com/guilherme-rhein/EDA---Exploratory-Data-Analysis-SQL/main/Queries%20Realizadas/Query17.csv')"
   ]
  },
  {
   "cell_type": "markdown",
   "id": "a0ef6d18",
   "metadata": {},
   "source": [
    "A apresentação destes dados deixam as análises anteriores mais claras, nas quais os relacionamentos entre as variáveis ```salario_anual```, ```quantidade```, ```media_limite_credito```, esclarecem melhor a relação entre as variáveis selecionadas.\n",
    "\n",
    "Podemos dizer que existe uma tendência para redução do valor na ```media_qtd_transacoes``` seguindo a ordem dos cartões ```blue```, ```silver```, ```gold```, ```platinum```.\n",
    "<br><br>\n",
    "\n",
    "Verificamos novamente a relação entre a ```media_limite_credito``` está relacionada com ```tipo de cartão```, sendo que os valores mais baixos de ```media_limite_credito``` são dos clientes que possuem o tipo de cartão ```blue```, e a ocorrência de aumento de acordo com a ```faixa salarial anual```.\n",
    "\n",
    "Para cada faixa de ```salario_anual```, existe um ```tipo_cartao``` seguido de uma faixa crescente para a ```media_limite_credito```.\n",
    "<br><br>\n",
    "\n",
    "\n",
    "Analisando a variável```salario_anual``` podemos verificar pela ```quantidade``` que a maior parte dos clientes possuem salários anuais inferiores a ```$40.000,00```"
   ]
  },
  {
   "cell_type": "markdown",
   "id": "81c3fece",
   "metadata": {
    "papermill": {
     "duration": 0.023998,
     "end_time": "2023-05-23T19:02:12.15452",
     "exception": false,
     "start_time": "2023-05-23T19:02:12.130522",
     "status": "completed"
    },
    "tags": []
   },
   "source": [
    "[Retornar ao índice](#Índice)"
   ]
  },
  {
   "cell_type": "markdown",
   "id": "3609ba0f",
   "metadata": {
    "papermill": {
     "duration": 0.024572,
     "end_time": "2023-05-23T19:02:12.203427",
     "exception": false,
     "start_time": "2023-05-23T19:02:12.178855",
     "status": "completed"
    },
    "tags": []
   },
   "source": [
    "# **Conclusão:**"
   ]
  },
  {
   "cell_type": "markdown",
   "id": "d42ebd3f",
   "metadata": {
    "papermill": {
     "duration": 0.02393,
     "end_time": "2023-05-23T19:02:12.251903",
     "exception": false,
     "start_time": "2023-05-23T19:02:12.227973",
     "status": "completed"
    },
    "tags": []
   },
   "source": [
    "Podemos concluir após algumas das análises extraídas, fornecendo insights sobre o perfil dos clientes que poderiam ser utilizados para uma estratégia de marketing, equipe de pricing, entre outras diversas áreas que podem utilizar as vantagens de pesquisas baseadas em dados para tomar ações mais seguras e competitivas dentro do mercado o faz com que os limites para erros sejam parametrizados e quantificados. \n",
    "\n",
    "Todo conjunto de ações nas diferente equipes podem trazer maior segurança, seja para o lançamento de novos produtos, análise de performance ao longo do tempo para verificar novas tendências e correções, objetivando uma melhor competitividade dentro do mercado e maior segurança nas tomadas de decisões.\n"
   ]
  },
  {
   "cell_type": "markdown",
   "id": "806e63e8",
   "metadata": {
    "papermill": {
     "duration": 0.024603,
     "end_time": "2023-05-23T19:02:12.301387",
     "exception": false,
     "start_time": "2023-05-23T19:02:12.276784",
     "status": "completed"
    },
    "tags": []
   },
   "source": [
    "[Retornar ao índice](#Índice)"
   ]
  },
  {
   "cell_type": "markdown",
   "id": "e35d8abb",
   "metadata": {
    "papermill": {
     "duration": 0.024057,
     "end_time": "2023-05-23T19:02:12.349688",
     "exception": false,
     "start_time": "2023-05-23T19:02:12.325631",
     "status": "completed"
    },
    "tags": []
   },
   "source": [
    "---"
   ]
  }
 ],
 "metadata": {
  "kernelspec": {
   "display_name": "Python 3 (ipykernel)",
   "language": "python",
   "name": "python3"
  },
  "language_info": {
   "codemirror_mode": {
    "name": "ipython",
    "version": 3
   },
   "file_extension": ".py",
   "mimetype": "text/x-python",
   "name": "python",
   "nbconvert_exporter": "python",
   "pygments_lexer": "ipython3",
   "version": "3.11.7"
  },
  "papermill": {
   "default_parameters": {},
   "duration": 20.968064,
   "end_time": "2023-05-23T19:02:13.195682",
   "environment_variables": {},
   "exception": null,
   "input_path": "__notebook__.ipynb",
   "output_path": "__notebook__.ipynb",
   "parameters": {},
   "start_time": "2023-05-23T19:01:52.227618",
   "version": "2.4.0"
  }
 },
 "nbformat": 4,
 "nbformat_minor": 5
}
